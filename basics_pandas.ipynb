{
 "cells": [
  {
   "cell_type": "code",
   "execution_count": 1,
   "metadata": {
    "collapsed": true,
    "deletable": true,
    "editable": true
   },
   "outputs": [],
   "source": [
    "import pandas as pd"
   ]
  },
  {
   "cell_type": "code",
   "execution_count": 2,
   "metadata": {
    "collapsed": true
   },
   "outputs": [],
   "source": [
    "COMMENT_CHARACTER = '#'\n",
    "DELIMITER = ','\n",
    "INDEX_COLUMN = 0"
   ]
  },
  {
   "cell_type": "code",
   "execution_count": 3,
   "metadata": {
    "collapsed": false,
    "deletable": true,
    "editable": true
   },
   "outputs": [],
   "source": [
    "dataset = pd.read_table(\n",
    "    \"basics_dataset.txt\",\n",
    "    comment=COMMENT_CHARACTER,\n",
    "    header=None,\n",
    "    delimiter=DELIMITER,\n",
    "    index_col=INDEX_COLUMN\n",
    ")\n",
    "# optionally, pd.read_csv can be used which assumes the delimiter to be `,` by default"
   ]
  },
  {
   "cell_type": "code",
   "execution_count": 4,
   "metadata": {
    "collapsed": false,
    "deletable": true,
    "editable": true
   },
   "outputs": [
    {
     "name": "stdout",
     "output_type": "stream",
     "text": [
      "   1    2   3   4   5   6   7    8   9   10\n",
      "0                                          \n",
      "0  99   95   0   7  37  43  76   51   0  65\n",
      "1  33    8  18  95  50  54  41   47  32  65\n",
      "2  59   77   5  52  23  20  42   29   4   1\n",
      "3  46   51   4  18   9  96   6   89  31  60\n",
      "4  57   30  56  55  51  69  39   19  81  18\n",
      "5  65   13   6  85  63  39  88   71  62  65\n",
      "6  93   83   0  17   5  78  17    4  65  73\n",
      "7  23  100   5  85  54  50  72  100  47  17\n",
      "8  57   66  38  51  35  29  61   18  24  73\n",
      "9  86    6  43  33   1  59  44    8  91  26\n"
     ]
    }
   ],
   "source": [
    "print(dataset)"
   ]
  },
  {
   "cell_type": "code",
   "execution_count": 5,
   "metadata": {
    "collapsed": false,
    "deletable": true,
    "editable": true
   },
   "outputs": [
    {
     "name": "stdout",
     "output_type": "stream",
     "text": [
      "<class 'pandas.core.frame.DataFrame'>\n"
     ]
    }
   ],
   "source": [
    "print(type(dataset))"
   ]
  },
  {
   "cell_type": "markdown",
   "metadata": {
    "deletable": true,
    "editable": true
   },
   "source": [
    "- Notes on the pandas DataFrame object"
   ]
  },
  {
   "cell_type": "code",
   "execution_count": 6,
   "metadata": {
    "collapsed": false,
    "deletable": true,
    "editable": true
   },
   "outputs": [
    {
     "data": {
      "text/plain": [
       "0\n",
       "0    99\n",
       "1    33\n",
       "2    59\n",
       "3    46\n",
       "4    57\n",
       "5    65\n",
       "6    93\n",
       "7    23\n",
       "8    57\n",
       "9    86\n",
       "Name: 1, dtype: int64"
      ]
     },
     "execution_count": 6,
     "metadata": {},
     "output_type": "execute_result"
    }
   ],
   "source": [
    "dataset[1]"
   ]
  },
  {
   "cell_type": "markdown",
   "metadata": {
    "deletable": true,
    "editable": true
   },
   "source": [
    "- Notes on indexing pandas DataFrame objects"
   ]
  }
 ],
 "metadata": {
  "kernelspec": {
   "display_name": "Python 3",
   "language": "python",
   "name": "python3"
  },
  "language_info": {
   "codemirror_mode": {
    "name": "ipython",
    "version": 3
   },
   "file_extension": ".py",
   "mimetype": "text/x-python",
   "name": "python",
   "nbconvert_exporter": "python",
   "pygments_lexer": "ipython3",
   "version": "3.6.0"
  }
 },
 "nbformat": 4,
 "nbformat_minor": 2
}
