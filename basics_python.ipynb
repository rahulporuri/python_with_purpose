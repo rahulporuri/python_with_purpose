{
 "cells": [
  {
   "cell_type": "markdown",
   "metadata": {
    "deletable": true,
    "editable": true
   },
   "source": [
    "# The Python Language"
   ]
  },
  {
   "cell_type": "markdown",
   "metadata": {
    "deletable": true,
    "editable": true
   },
   "source": [
    "Python is an interpreted language, unline C, C++ or Java, which are compiled languages.\n",
    "\n",
    "Ahead of time (AOT) compiled languages are compiled into OS-specific bytecode. Once compiled, the bytecote is encapsulated in an executable, which contains instructions that the OS and chipset understand.\n",
    "\n",
    "Python on the other hand is interpreted at runtime i.e. when you do `$ python file.py`. The CPython interpreter compiles the Python code into bytecode, which is then run on the machine. The CPython interpreter is the most widely interpreter, written in C. Other interpreters include PyPy, which is a Just in time (JIT) compiler, written in RPython, a restricted subset of the Python language.\n",
    "\n",
    "Python is a general purpose programming language, whose popularity has soared over the last decade. Python is widely used in Scientific Computing, Data Science and Web Development. Numpy, Scipy, Pandas, Matplotlib, scikit-learn, PyTorch are a few popular packages used in Scientific Computing and Data Science. Django, Flask, Pyramid and Tornado are a few popular packages used in Web Development.\n",
    "\n",
    "Without further ado, let's start learning the language."
   ]
  },
  {
   "cell_type": "markdown",
   "metadata": {
    "deletable": true,
    "editable": true
   },
   "source": [
    "## Introduction"
   ]
  },
  {
   "cell_type": "markdown",
   "metadata": {
    "deletable": true,
    "editable": true
   },
   "source": [
    "This workbook is going to introduce various concepts in the Python language while solving a very basic problem - reading the contents of a file and analyzing it. Note that all of the code is written in Python 3.6 and some parts of the code will not work with older versions of Python.\n",
    "\n",
    "In the course of solving the problem, we are going to look at some of the data types, a few in-built functions and how loops/conditionals are written in the Python language."
   ]
  },
  {
   "cell_type": "markdown",
   "metadata": {},
   "source": [
    "NOTE : Before you go any further, make sure the `basics_dataset.txt` file exists in your current directory. If it doesn't, run the `create_dataset.py` script using `$ python create_dataset.py`."
   ]
  },
  {
   "cell_type": "markdown",
   "metadata": {
    "deletable": true,
    "editable": true
   },
   "source": [
    "### Opening files using Python"
   ]
  },
  {
   "cell_type": "markdown",
   "metadata": {
    "deletable": true,
    "editable": true
   },
   "source": [
    "Here we define a few constants that will used for reading the contents of the file."
   ]
  },
  {
   "cell_type": "code",
   "execution_count": 1,
   "metadata": {
    "collapsed": true,
    "deletable": true,
    "editable": true
   },
   "outputs": [],
   "source": [
    "LINE_DELIMITER = '\\n'\n",
    "COMMENT_CHARACTER = '#'\n",
    "DELIMITER = ','"
   ]
  },
  {
   "cell_type": "markdown",
   "metadata": {
    "deletable": true,
    "editable": true
   },
   "source": [
    "`open` is an in-built function that lets you read the contents of a file. The `open` function returns a Python object, which contains methods to read the contents of the file. See more at the [Python documentation](https://docs.python.org/3/library/functions.html#open) for the `open` function."
   ]
  },
  {
   "cell_type": "markdown",
   "metadata": {
    "deletable": true,
    "editable": true
   },
   "source": [
    "First, let's take a peek at the contents of the file we are working with."
   ]
  },
  {
   "cell_type": "code",
   "execution_count": 2,
   "metadata": {
    "collapsed": false,
    "deletable": true,
    "editable": true
   },
   "outputs": [
    {
     "name": "stdout",
     "output_type": "stream",
     "text": [
      "# Sample Dataset \r\n",
      "0,100,22,77,48,82,26,54,8,56,56\r\n",
      "1,76,85,14,38,50,62,73,73,9,93\r\n",
      "2,73,49,22,46,0,41,78,57,2,92\r\n",
      "3,16,62,44,13,62,100,66,49,20,51\r\n",
      "4,48,73,2,58,99,79,64,46,23,4\r\n",
      "5,30,55,17,9,59,32,51,60,57,70\r\n",
      "6,41,49,3,69,59,12,77,30,69,56\r\n",
      "7,35,84,46,9,47,62,12,61,59,87\r\n",
      "8,18,12,66,73,15,53,59,32,36,96\r\n",
      "9,54,2,7,3,9,66,4,28,16,84\r\n"
     ]
    }
   ],
   "source": [
    "!cat basics_dataset.txt"
   ]
  },
  {
   "cell_type": "markdown",
   "metadata": {
    "deletable": true,
    "editable": true
   },
   "source": [
    "As you can see above, the file contains a comment line at the top, using the `#` character to represent commented lines. The rest of the lines contain integers that are seperated using the `,` character. There are 10 rows and 11 columns of integer data."
   ]
  },
  {
   "cell_type": "code",
   "execution_count": 3,
   "metadata": {
    "collapsed": true,
    "deletable": true,
    "editable": true
   },
   "outputs": [],
   "source": [
    "file_obj = open(\"basics_dataset.txt\", mode='r')"
   ]
  },
  {
   "cell_type": "markdown",
   "metadata": {
    "deletable": true,
    "editable": true
   },
   "source": [
    "`help` is also an in-built function that provides easy access to documentation related to the function/object."
   ]
  },
  {
   "cell_type": "code",
   "execution_count": 4,
   "metadata": {
    "collapsed": false,
    "deletable": true,
    "editable": true,
    "scrolled": true
   },
   "outputs": [
    {
     "name": "stdout",
     "output_type": "stream",
     "text": [
      "Help on built-in function open in module io:\n",
      "\n",
      "open(file, mode='r', buffering=-1, encoding=None, errors=None, newline=None, closefd=True, opener=None)\n",
      "    Open file and return a stream.  Raise IOError upon failure.\n",
      "    \n",
      "    file is either a text or byte string giving the name (and the path\n",
      "    if the file isn't in the current working directory) of the file to\n",
      "    be opened or an integer file descriptor of the file to be\n",
      "    wrapped. (If a file descriptor is given, it is closed when the\n",
      "    returned I/O object is closed, unless closefd is set to False.)\n",
      "    \n",
      "    mode is an optional string that specifies the mode in which the file\n",
      "    is opened. It defaults to 'r' which means open for reading in text\n",
      "    mode.  Other common values are 'w' for writing (truncating the file if\n",
      "    it already exists), 'x' for creating and writing to a new file, and\n",
      "    'a' for appending (which on some Unix systems, means that all writes\n",
      "    append to the end of the file regardless of the current seek position).\n",
      "    In text mode, if encoding is not specified the encoding used is platform\n",
      "    dependent: locale.getpreferredencoding(False) is called to get the\n",
      "    current locale encoding. (For reading and writing raw bytes use binary\n",
      "    mode and leave encoding unspecified.) The available modes are:\n",
      "    \n",
      "    ========= ===============================================================\n",
      "    Character Meaning\n",
      "    --------- ---------------------------------------------------------------\n",
      "    'r'       open for reading (default)\n",
      "    'w'       open for writing, truncating the file first\n",
      "    'x'       create a new file and open it for writing\n",
      "    'a'       open for writing, appending to the end of the file if it exists\n",
      "    'b'       binary mode\n",
      "    't'       text mode (default)\n",
      "    '+'       open a disk file for updating (reading and writing)\n",
      "    'U'       universal newline mode (deprecated)\n",
      "    ========= ===============================================================\n",
      "    \n",
      "    The default mode is 'rt' (open for reading text). For binary random\n",
      "    access, the mode 'w+b' opens and truncates the file to 0 bytes, while\n",
      "    'r+b' opens the file without truncation. The 'x' mode implies 'w' and\n",
      "    raises an `FileExistsError` if the file already exists.\n",
      "    \n",
      "    Python distinguishes between files opened in binary and text modes,\n",
      "    even when the underlying operating system doesn't. Files opened in\n",
      "    binary mode (appending 'b' to the mode argument) return contents as\n",
      "    bytes objects without any decoding. In text mode (the default, or when\n",
      "    't' is appended to the mode argument), the contents of the file are\n",
      "    returned as strings, the bytes having been first decoded using a\n",
      "    platform-dependent encoding or using the specified encoding if given.\n",
      "    \n",
      "    'U' mode is deprecated and will raise an exception in future versions\n",
      "    of Python.  It has no effect in Python 3.  Use newline to control\n",
      "    universal newlines mode.\n",
      "    \n",
      "    buffering is an optional integer used to set the buffering policy.\n",
      "    Pass 0 to switch buffering off (only allowed in binary mode), 1 to select\n",
      "    line buffering (only usable in text mode), and an integer > 1 to indicate\n",
      "    the size of a fixed-size chunk buffer.  When no buffering argument is\n",
      "    given, the default buffering policy works as follows:\n",
      "    \n",
      "    * Binary files are buffered in fixed-size chunks; the size of the buffer\n",
      "      is chosen using a heuristic trying to determine the underlying device's\n",
      "      \"block size\" and falling back on `io.DEFAULT_BUFFER_SIZE`.\n",
      "      On many systems, the buffer will typically be 4096 or 8192 bytes long.\n",
      "    \n",
      "    * \"Interactive\" text files (files for which isatty() returns True)\n",
      "      use line buffering.  Other text files use the policy described above\n",
      "      for binary files.\n",
      "    \n",
      "    encoding is the name of the encoding used to decode or encode the\n",
      "    file. This should only be used in text mode. The default encoding is\n",
      "    platform dependent, but any encoding supported by Python can be\n",
      "    passed.  See the codecs module for the list of supported encodings.\n",
      "    \n",
      "    errors is an optional string that specifies how encoding errors are to\n",
      "    be handled---this argument should not be used in binary mode. Pass\n",
      "    'strict' to raise a ValueError exception if there is an encoding error\n",
      "    (the default of None has the same effect), or pass 'ignore' to ignore\n",
      "    errors. (Note that ignoring encoding errors can lead to data loss.)\n",
      "    See the documentation for codecs.register or run 'help(codecs.Codec)'\n",
      "    for a list of the permitted encoding error strings.\n",
      "    \n",
      "    newline controls how universal newlines works (it only applies to text\n",
      "    mode). It can be None, '', '\\n', '\\r', and '\\r\\n'.  It works as\n",
      "    follows:\n",
      "    \n",
      "    * On input, if newline is None, universal newlines mode is\n",
      "      enabled. Lines in the input can end in '\\n', '\\r', or '\\r\\n', and\n",
      "      these are translated into '\\n' before being returned to the\n",
      "      caller. If it is '', universal newline mode is enabled, but line\n",
      "      endings are returned to the caller untranslated. If it has any of\n",
      "      the other legal values, input lines are only terminated by the given\n",
      "      string, and the line ending is returned to the caller untranslated.\n",
      "    \n",
      "    * On output, if newline is None, any '\\n' characters written are\n",
      "      translated to the system default line separator, os.linesep. If\n",
      "      newline is '' or '\\n', no translation takes place. If newline is any\n",
      "      of the other legal values, any '\\n' characters written are translated\n",
      "      to the given string.\n",
      "    \n",
      "    If closefd is False, the underlying file descriptor will be kept open\n",
      "    when the file is closed. This does not work when a file name is given\n",
      "    and must be True in that case.\n",
      "    \n",
      "    A custom opener can be used by passing a callable as *opener*. The\n",
      "    underlying file descriptor for the file object is then obtained by\n",
      "    calling *opener* with (*file*, *flags*). *opener* must return an open\n",
      "    file descriptor (passing os.open as *opener* results in functionality\n",
      "    similar to passing None).\n",
      "    \n",
      "    open() returns a file object whose type depends on the mode, and\n",
      "    through which the standard file operations such as reading and writing\n",
      "    are performed. When open() is used to open a file in a text mode ('w',\n",
      "    'r', 'wt', 'rt', etc.), it returns a TextIOWrapper. When used to open\n",
      "    a file in a binary mode, the returned class varies: in read binary\n",
      "    mode, it returns a BufferedReader; in write binary and append binary\n",
      "    modes, it returns a BufferedWriter, and in read/write mode, it returns\n",
      "    a BufferedRandom.\n",
      "    \n",
      "    It is also possible to use a string or bytearray as a file for both\n",
      "    reading and writing. For strings StringIO can be used like a file\n",
      "    opened in a text mode, and for bytes a BytesIO can be used like a file\n",
      "    opened in a binary mode.\n",
      "\n"
     ]
    }
   ],
   "source": [
    "help(open)"
   ]
  },
  {
   "cell_type": "markdown",
   "metadata": {
    "deletable": true,
    "editable": true
   },
   "source": [
    "`type` is also an in-built function that lets you look at the Python object type. See more in the [docs](https://docs.python.org/3/library/functions.html#type)"
   ]
  },
  {
   "cell_type": "code",
   "execution_count": 5,
   "metadata": {
    "collapsed": false,
    "deletable": true,
    "editable": true
   },
   "outputs": [
    {
     "data": {
      "text/plain": [
       "_io.TextIOWrapper"
      ]
     },
     "execution_count": 5,
     "metadata": {},
     "output_type": "execute_result"
    }
   ],
   "source": [
    "type(file_obj)"
   ]
  },
  {
   "cell_type": "code",
   "execution_count": 6,
   "metadata": {
    "collapsed": false,
    "deletable": true,
    "editable": true
   },
   "outputs": [
    {
     "data": {
      "text/plain": [
       "builtin_function_or_method"
      ]
     },
     "execution_count": 6,
     "metadata": {},
     "output_type": "execute_result"
    }
   ],
   "source": [
    "type(open)"
   ]
  },
  {
   "cell_type": "markdown",
   "metadata": {
    "deletable": true,
    "editable": true
   },
   "source": [
    "Coming back to the Python object returned by the `open` function, let's see how we can read the contents of the file from the Python object."
   ]
  },
  {
   "cell_type": "markdown",
   "metadata": {
    "deletable": true,
    "editable": true
   },
   "source": [
    "`dir` is also a built-in function that returns the various objects and methods defined on a Class instance. If called on a module, it returns the variables, functions and classes defined in the Python module. See more in the [docs](https://docs.python.org/3/library/functions.html#dir)"
   ]
  },
  {
   "cell_type": "code",
   "execution_count": 7,
   "metadata": {
    "collapsed": false,
    "deletable": true,
    "editable": true,
    "scrolled": true
   },
   "outputs": [
    {
     "data": {
      "text/plain": [
       "['_CHUNK_SIZE',\n",
       " '__class__',\n",
       " '__del__',\n",
       " '__delattr__',\n",
       " '__dict__',\n",
       " '__dir__',\n",
       " '__doc__',\n",
       " '__enter__',\n",
       " '__eq__',\n",
       " '__exit__',\n",
       " '__format__',\n",
       " '__ge__',\n",
       " '__getattribute__',\n",
       " '__getstate__',\n",
       " '__gt__',\n",
       " '__hash__',\n",
       " '__init__',\n",
       " '__init_subclass__',\n",
       " '__iter__',\n",
       " '__le__',\n",
       " '__lt__',\n",
       " '__ne__',\n",
       " '__new__',\n",
       " '__next__',\n",
       " '__reduce__',\n",
       " '__reduce_ex__',\n",
       " '__repr__',\n",
       " '__setattr__',\n",
       " '__sizeof__',\n",
       " '__str__',\n",
       " '__subclasshook__',\n",
       " '_checkClosed',\n",
       " '_checkReadable',\n",
       " '_checkSeekable',\n",
       " '_checkWritable',\n",
       " '_finalizing',\n",
       " 'buffer',\n",
       " 'close',\n",
       " 'closed',\n",
       " 'detach',\n",
       " 'encoding',\n",
       " 'errors',\n",
       " 'fileno',\n",
       " 'flush',\n",
       " 'isatty',\n",
       " 'line_buffering',\n",
       " 'mode',\n",
       " 'name',\n",
       " 'newlines',\n",
       " 'read',\n",
       " 'readable',\n",
       " 'readline',\n",
       " 'readlines',\n",
       " 'seek',\n",
       " 'seekable',\n",
       " 'tell',\n",
       " 'truncate',\n",
       " 'writable',\n",
       " 'write',\n",
       " 'writelines']"
      ]
     },
     "execution_count": 7,
     "metadata": {},
     "output_type": "execute_result"
    }
   ],
   "source": [
    "dir(file_obj)"
   ]
  },
  {
   "cell_type": "markdown",
   "metadata": {
    "deletable": true,
    "editable": true
   },
   "source": [
    "Looking at the methods defined on the File-like object, a few methods that seem relevant are `read`, `readline` and `readlines`. Let's take a look at what they return when called."
   ]
  },
  {
   "cell_type": "markdown",
   "metadata": {
    "deletable": true,
    "editable": true
   },
   "source": [
    "The `read` method of the File-like object returns the entire contents of the file as a Python string object. See more about the Python `string` object in the [docs](https://docs.python.org/3/library/stdtypes.html#text-sequence-type-str)."
   ]
  },
  {
   "cell_type": "code",
   "execution_count": 8,
   "metadata": {
    "collapsed": false,
    "deletable": true,
    "editable": true
   },
   "outputs": [
    {
     "data": {
      "text/plain": [
       "'# Sample Dataset \\n0,100,22,77,48,82,26,54,8,56,56\\n1,76,85,14,38,50,62,73,73,9,93\\n2,73,49,22,46,0,41,78,57,2,92\\n3,16,62,44,13,62,100,66,49,20,51\\n4,48,73,2,58,99,79,64,46,23,4\\n5,30,55,17,9,59,32,51,60,57,70\\n6,41,49,3,69,59,12,77,30,69,56\\n7,35,84,46,9,47,62,12,61,59,87\\n8,18,12,66,73,15,53,59,32,36,96\\n9,54,2,7,3,9,66,4,28,16,84\\n'"
      ]
     },
     "execution_count": 8,
     "metadata": {},
     "output_type": "execute_result"
    }
   ],
   "source": [
    "file_obj.read()"
   ]
  },
  {
   "cell_type": "markdown",
   "metadata": {
    "deletable": true,
    "editable": true
   },
   "source": [
    "Once the `read` method is called and the contents of the file are read, the cursor is set to the end of the file. To start reading the file contents from the beginning, we need to call the `seek` method on the file-like Python object. We call the `seek` method with `0` as an argument to move the cursor to the beginning of the file."
   ]
  },
  {
   "cell_type": "code",
   "execution_count": 9,
   "metadata": {
    "collapsed": false,
    "deletable": true,
    "editable": true
   },
   "outputs": [
    {
     "data": {
      "text/plain": [
       "0"
      ]
     },
     "execution_count": 9,
     "metadata": {},
     "output_type": "execute_result"
    }
   ],
   "source": [
    "file_obj.seek(0)"
   ]
  },
  {
   "cell_type": "markdown",
   "metadata": {
    "deletable": true,
    "editable": true
   },
   "source": [
    "Now, let's assign the string returned by the `read` method to a variable for further analysis."
   ]
  },
  {
   "cell_type": "code",
   "execution_count": 10,
   "metadata": {
    "collapsed": true,
    "deletable": true,
    "editable": true
   },
   "outputs": [],
   "source": [
    "text_data = file_obj.read()"
   ]
  },
  {
   "cell_type": "markdown",
   "metadata": {},
   "source": [
    "Once you're done reading the contents of file-like object, make sure you close the access to the file by calling the `close` method on the object."
   ]
  },
  {
   "cell_type": "code",
   "execution_count": 11,
   "metadata": {
    "collapsed": true
   },
   "outputs": [],
   "source": [
    "file_obj.close()"
   ]
  },
  {
   "cell_type": "markdown",
   "metadata": {},
   "source": [
    "If you don't want to worry about forgetting to close a file-like object, you can use the `with` statement in Python. See below for an example of how the `with` statement can be used. For more on the `with` statement in Python, see [docs](https://docs.python.org/3/reference/compound_stmts.html#the-with-statement)"
   ]
  },
  {
   "cell_type": "code",
   "execution_count": 12,
   "metadata": {
    "collapsed": true
   },
   "outputs": [],
   "source": [
    "with open(\"basics_dataset.txt\", mode='r') as file_obj:\n",
    "    text_data = file_obj.read()"
   ]
  },
  {
   "cell_type": "markdown",
   "metadata": {
    "deletable": true,
    "editable": true
   },
   "source": [
    "`print` is also an in-built function. See more in the [docs](https://docs.python.org/3/library/functions.html#print)"
   ]
  },
  {
   "cell_type": "code",
   "execution_count": 13,
   "metadata": {
    "collapsed": false,
    "deletable": true,
    "editable": true
   },
   "outputs": [
    {
     "name": "stdout",
     "output_type": "stream",
     "text": [
      "# Sample Dataset \n",
      "0,100,22,77,48,82,26,54,8,56,56\n",
      "1,76,85,14,38,50,62,73,73,9,93\n",
      "2,73,49,22,46,0,41,78,57,2,92\n",
      "3,16,62,44,13,62,100,66,49,20,51\n",
      "4,48,73,2,58,99,79,64,46,23,4\n",
      "5,30,55,17,9,59,32,51,60,57,70\n",
      "6,41,49,3,69,59,12,77,30,69,56\n",
      "7,35,84,46,9,47,62,12,61,59,87\n",
      "8,18,12,66,73,15,53,59,32,36,96\n",
      "9,54,2,7,3,9,66,4,28,16,84\n",
      "\n"
     ]
    }
   ],
   "source": [
    "print(text_data)"
   ]
  },
  {
   "cell_type": "markdown",
   "metadata": {
    "deletable": true,
    "editable": true
   },
   "source": [
    "As mentioned earlier, the value returned by the `read` method on the file-like object, represented as the `text_data` variable, is a Python `String` data type object."
   ]
  },
  {
   "cell_type": "code",
   "execution_count": 14,
   "metadata": {
    "collapsed": false,
    "deletable": true,
    "editable": true
   },
   "outputs": [
    {
     "name": "stdout",
     "output_type": "stream",
     "text": [
      "<class 'str'>\n"
     ]
    }
   ],
   "source": [
    "print(type(text_data))"
   ]
  },
  {
   "cell_type": "markdown",
   "metadata": {
    "deletable": true,
    "editable": true
   },
   "source": [
    "To be able to perform any analysis on the text data, we first need to split up the string into individual rows and then individual columns. We can make use of some of the methods on a `String` type object to achieve the desirable transformations."
   ]
  },
  {
   "cell_type": "markdown",
   "metadata": {
    "deletable": true,
    "editable": true
   },
   "source": [
    "Let's use the `dir` in-built function again to take a look at the methods available on the String object."
   ]
  },
  {
   "cell_type": "code",
   "execution_count": 15,
   "metadata": {
    "collapsed": false,
    "deletable": true,
    "editable": true,
    "scrolled": true
   },
   "outputs": [
    {
     "data": {
      "text/plain": [
       "['__add__',\n",
       " '__class__',\n",
       " '__contains__',\n",
       " '__delattr__',\n",
       " '__dir__',\n",
       " '__doc__',\n",
       " '__eq__',\n",
       " '__format__',\n",
       " '__ge__',\n",
       " '__getattribute__',\n",
       " '__getitem__',\n",
       " '__getnewargs__',\n",
       " '__gt__',\n",
       " '__hash__',\n",
       " '__init__',\n",
       " '__init_subclass__',\n",
       " '__iter__',\n",
       " '__le__',\n",
       " '__len__',\n",
       " '__lt__',\n",
       " '__mod__',\n",
       " '__mul__',\n",
       " '__ne__',\n",
       " '__new__',\n",
       " '__reduce__',\n",
       " '__reduce_ex__',\n",
       " '__repr__',\n",
       " '__rmod__',\n",
       " '__rmul__',\n",
       " '__setattr__',\n",
       " '__sizeof__',\n",
       " '__str__',\n",
       " '__subclasshook__',\n",
       " 'capitalize',\n",
       " 'casefold',\n",
       " 'center',\n",
       " 'count',\n",
       " 'encode',\n",
       " 'endswith',\n",
       " 'expandtabs',\n",
       " 'find',\n",
       " 'format',\n",
       " 'format_map',\n",
       " 'index',\n",
       " 'isalnum',\n",
       " 'isalpha',\n",
       " 'isdecimal',\n",
       " 'isdigit',\n",
       " 'isidentifier',\n",
       " 'islower',\n",
       " 'isnumeric',\n",
       " 'isprintable',\n",
       " 'isspace',\n",
       " 'istitle',\n",
       " 'isupper',\n",
       " 'join',\n",
       " 'ljust',\n",
       " 'lower',\n",
       " 'lstrip',\n",
       " 'maketrans',\n",
       " 'partition',\n",
       " 'replace',\n",
       " 'rfind',\n",
       " 'rindex',\n",
       " 'rjust',\n",
       " 'rpartition',\n",
       " 'rsplit',\n",
       " 'rstrip',\n",
       " 'split',\n",
       " 'splitlines',\n",
       " 'startswith',\n",
       " 'strip',\n",
       " 'swapcase',\n",
       " 'title',\n",
       " 'translate',\n",
       " 'upper',\n",
       " 'zfill']"
      ]
     },
     "execution_count": 15,
     "metadata": {},
     "output_type": "execute_result"
    }
   ],
   "source": [
    "dir(text_data)"
   ]
  },
  {
   "cell_type": "markdown",
   "metadata": {
    "deletable": true,
    "editable": true
   },
   "source": [
    "Of the methods defined above, we are going to make use of the `split` and `startswith` methods."
   ]
  },
  {
   "cell_type": "code",
   "execution_count": 16,
   "metadata": {
    "collapsed": true,
    "deletable": true,
    "editable": true
   },
   "outputs": [],
   "source": [
    "row_wise_text_data = text_data.split(LINE_DELIMITER)"
   ]
  },
  {
   "cell_type": "markdown",
   "metadata": {
    "deletable": true,
    "editable": true
   },
   "source": [
    "As you can see below, the `split` method on a String object can be used to split the string into sub-strings using a character. In this case, we pass the `LINE_DELIMITER` character, which was set to be `\\n` at the top of the file. See more about the `split` method in the [docs](https://docs.python.org/3/library/stdtypes.html#str.split).\n",
    "\n",
    "If the `LINE_DELIMITER` character is found in the string, the `split` method will return a `List` of sub-strings. Read more about the `List` type in the [docs](https://docs.python.org/3/library/stdtypes.html#list)"
   ]
  },
  {
   "cell_type": "code",
   "execution_count": 17,
   "metadata": {
    "collapsed": false,
    "deletable": true,
    "editable": true
   },
   "outputs": [
    {
     "name": "stdout",
     "output_type": "stream",
     "text": [
      "['# Sample Dataset ', '0,100,22,77,48,82,26,54,8,56,56', '1,76,85,14,38,50,62,73,73,9,93', '2,73,49,22,46,0,41,78,57,2,92', '3,16,62,44,13,62,100,66,49,20,51', '4,48,73,2,58,99,79,64,46,23,4', '5,30,55,17,9,59,32,51,60,57,70', '6,41,49,3,69,59,12,77,30,69,56', '7,35,84,46,9,47,62,12,61,59,87', '8,18,12,66,73,15,53,59,32,36,96', '9,54,2,7,3,9,66,4,28,16,84', '']\n"
     ]
    }
   ],
   "source": [
    "print(row_wise_text_data)"
   ]
  },
  {
   "cell_type": "code",
   "execution_count": 18,
   "metadata": {
    "collapsed": false,
    "deletable": true,
    "editable": true
   },
   "outputs": [
    {
     "name": "stdout",
     "output_type": "stream",
     "text": [
      "<class 'list'>\n"
     ]
    }
   ],
   "source": [
    "print(type(row_wise_text_data))"
   ]
  },
  {
   "cell_type": "markdown",
   "metadata": {
    "deletable": true,
    "editable": true
   },
   "source": [
    "Now that we have split the file contents into rows, represented as the individual strings in the list, let's break up each row into columns. To do so, we can loop over each row (string) in the list and split it up into columns (strings). Let's look at how we can use the `for` loop in Python to achieve this."
   ]
  },
  {
   "cell_type": "markdown",
   "metadata": {
    "deletable": true,
    "editable": true
   },
   "source": [
    "One way to iterate over the list elements can be seen below"
   ]
  },
  {
   "cell_type": "code",
   "execution_count": 19,
   "metadata": {
    "collapsed": true,
    "deletable": true,
    "editable": true
   },
   "outputs": [],
   "source": [
    "nrows = len(row_wise_text_data)\n",
    "for i in range(nrows):\n",
    "    row = row_wise_text_data[i]\n",
    "    # do something to row/string data."
   ]
  },
  {
   "cell_type": "markdown",
   "metadata": {
    "deletable": true,
    "editable": true
   },
   "source": [
    "But there's a better way to loop over the contents of the list of rows in Python. The list object in Python is what is called an iterable. Iterables in Python make it easy to iterate over them in loops. A more Pythonic way of iterating over the rows/elements in the list can be seen below"
   ]
  },
  {
   "cell_type": "code",
   "execution_count": 20,
   "metadata": {
    "collapsed": false,
    "deletable": true,
    "editable": true
   },
   "outputs": [
    {
     "name": "stdout",
     "output_type": "stream",
     "text": [
      "['0', '100', '22', '77', '48', '82', '26', '54', '8', '56', '56']\n",
      "['1', '76', '85', '14', '38', '50', '62', '73', '73', '9', '93']\n",
      "['2', '73', '49', '22', '46', '0', '41', '78', '57', '2', '92']\n",
      "['3', '16', '62', '44', '13', '62', '100', '66', '49', '20', '51']\n",
      "['4', '48', '73', '2', '58', '99', '79', '64', '46', '23', '4']\n",
      "['5', '30', '55', '17', '9', '59', '32', '51', '60', '57', '70']\n",
      "['6', '41', '49', '3', '69', '59', '12', '77', '30', '69', '56']\n",
      "['7', '35', '84', '46', '9', '47', '62', '12', '61', '59', '87']\n",
      "['8', '18', '12', '66', '73', '15', '53', '59', '32', '36', '96']\n",
      "['9', '54', '2', '7', '3', '9', '66', '4', '28', '16', '84']\n"
     ]
    }
   ],
   "source": [
    "for row in row_wise_text_data:\n",
    "    # comments in Python code start with the `#` character\n",
    "    # in the ith iteration of the for loop, the variable `row` refers\n",
    "    # to the ith elements in the list row_wise_text_data.\n",
    "    # e.g. in the first iteration, i=0 and row refers to the first element in the list.\n",
    "    # e.g. in the third iteration, i=2 and row refers to the third element in the list.\n",
    "    if row.startswith(COMMENT_CHARACTER):\n",
    "        continue\n",
    "    elif row == \"\":\n",
    "        continue\n",
    "    else:\n",
    "        col_wise_text_data = row.split(DELIMITER)\n",
    "        print(col_wise_text_data)"
   ]
  },
  {
   "cell_type": "markdown",
   "metadata": {
    "deletable": true,
    "editable": true
   },
   "source": [
    "Above we also see the use of the `startswith` method on a string object in Python. Instead of explicitly checking whether the beginning of the string matches a specific character, we simply use the `startswith` method. See more in the Python [docs](https://docs.python.org/3/library/stdtypes.html#str.startswith)"
   ]
  },
  {
   "cell_type": "markdown",
   "metadata": {
    "deletable": true,
    "editable": true
   },
   "source": [
    "Finally, as you can see, we split up the string representing each row into sub-strings representing the columns in a string."
   ]
  },
  {
   "cell_type": "code",
   "execution_count": 21,
   "metadata": {
    "collapsed": false,
    "deletable": true,
    "editable": true
   },
   "outputs": [
    {
     "name": "stdout",
     "output_type": "stream",
     "text": [
      "<class 'list'>\n"
     ]
    }
   ],
   "source": [
    "print(type(col_wise_text_data))"
   ]
  },
  {
   "cell_type": "markdown",
   "metadata": {
    "deletable": true,
    "editable": true
   },
   "source": [
    "Now, let's store all of the data into a 2D list."
   ]
  },
  {
   "cell_type": "code",
   "execution_count": 22,
   "metadata": {
    "collapsed": true,
    "deletable": true,
    "editable": true
   },
   "outputs": [],
   "source": [
    "dataset = []\n",
    "for row in row_wise_text_data:\n",
    "    if row.startswith(COMMENT_CHARACTER):\n",
    "        continue\n",
    "    elif row == \"\":\n",
    "        continue\n",
    "    else:\n",
    "        col_wise_text_data = row.split(DELIMITER)\n",
    "        parsed_row = []\n",
    "        for col in col_wise_text_data:\n",
    "            parsed_col = int(col)\n",
    "            parsed_row.append(parsed_col)\n",
    "        dataset.append(parsed_row)"
   ]
  },
  {
   "cell_type": "markdown",
   "metadata": {
    "deletable": true,
    "editable": true
   },
   "source": [
    "We made use of the `append` method on the list object to store each row of data in a single list object. Each row in itself is represented as a list of integers. `append` is one of the methods available on a List object. A list of a mutable sequence in Python and you can read more about the other methods available on a mutable sequence in the [docs](https://docs.python.org/3/library/stdtypes.html#mutable-sequence-types)\n",
    "\n",
    "Also note the use of the `int` built-in function. The `int` function simply tries converting the input into a Python integer type object. See more in the [docs](https://docs.python.org/3/library/functions.html#int)"
   ]
  },
  {
   "cell_type": "markdown",
   "metadata": {
    "deletable": true,
    "editable": true
   },
   "source": [
    "Finally, let's use a list comprehension to remove the second for loop over the column values in a row. A list comprehension is a concise way to create lists. See more in the [docs](https://docs.python.org/3/tutorial/datastructures.html?highlight=list%20comprehension#list-comprehensions)"
   ]
  },
  {
   "cell_type": "code",
   "execution_count": 23,
   "metadata": {
    "collapsed": true,
    "deletable": true,
    "editable": true
   },
   "outputs": [],
   "source": [
    "dataset = []\n",
    "for row in row_wise_text_data:\n",
    "    if row.startswith(COMMENT_CHARACTER):\n",
    "        continue\n",
    "    elif row == \"\":\n",
    "        continue\n",
    "    else:\n",
    "        col_wise_text_data = row.split(DELIMITER)\n",
    "        dataset.append(\n",
    "            [int(col_value) for col_value in col_wise_text_data]\n",
    "        )"
   ]
  },
  {
   "cell_type": "markdown",
   "metadata": {
    "deletable": true,
    "editable": true
   },
   "source": [
    "Finally, we have parsed the contents of the file into a 2D list where the first index represents each row in the file and the second index represents each column in the row"
   ]
  },
  {
   "cell_type": "code",
   "execution_count": 24,
   "metadata": {
    "collapsed": false,
    "deletable": true,
    "editable": true
   },
   "outputs": [
    {
     "data": {
      "text/plain": [
       "[[0, 100, 22, 77, 48, 82, 26, 54, 8, 56, 56],\n",
       " [1, 76, 85, 14, 38, 50, 62, 73, 73, 9, 93],\n",
       " [2, 73, 49, 22, 46, 0, 41, 78, 57, 2, 92],\n",
       " [3, 16, 62, 44, 13, 62, 100, 66, 49, 20, 51],\n",
       " [4, 48, 73, 2, 58, 99, 79, 64, 46, 23, 4],\n",
       " [5, 30, 55, 17, 9, 59, 32, 51, 60, 57, 70],\n",
       " [6, 41, 49, 3, 69, 59, 12, 77, 30, 69, 56],\n",
       " [7, 35, 84, 46, 9, 47, 62, 12, 61, 59, 87],\n",
       " [8, 18, 12, 66, 73, 15, 53, 59, 32, 36, 96],\n",
       " [9, 54, 2, 7, 3, 9, 66, 4, 28, 16, 84]]"
      ]
     },
     "execution_count": 24,
     "metadata": {},
     "output_type": "execute_result"
    }
   ],
   "source": [
    "dataset"
   ]
  },
  {
   "cell_type": "code",
   "execution_count": 25,
   "metadata": {
    "collapsed": false,
    "deletable": true,
    "editable": true
   },
   "outputs": [
    {
     "data": {
      "text/plain": [
       "[0, 100, 22, 77, 48, 82, 26, 54, 8, 56, 56]"
      ]
     },
     "execution_count": 25,
     "metadata": {},
     "output_type": "execute_result"
    }
   ],
   "source": [
    "# print all columns from the first row of data\n",
    "dataset[0][:]"
   ]
  },
  {
   "cell_type": "code",
   "execution_count": 26,
   "metadata": {
    "collapsed": false,
    "deletable": true,
    "editable": true
   },
   "outputs": [
    {
     "data": {
      "text/plain": [
       "[73, 49, 22]"
      ]
     },
     "execution_count": 26,
     "metadata": {},
     "output_type": "execute_result"
    }
   ],
   "source": [
    "# print columns 2-5 from the third row of data\n",
    "dataset[2][1:4]"
   ]
  },
  {
   "cell_type": "code",
   "execution_count": 27,
   "metadata": {
    "collapsed": false,
    "deletable": true,
    "editable": true
   },
   "outputs": [
    {
     "name": "stdout",
     "output_type": "stream",
     "text": [
      "84\n",
      "84\n"
     ]
    }
   ],
   "source": [
    "# print the last column from the last row of data\n",
    "print(dataset[9][10])\n",
    "\n",
    "# or\n",
    "print(dataset[-1][-1])"
   ]
  },
  {
   "cell_type": "markdown",
   "metadata": {
    "deletable": true,
    "editable": true
   },
   "source": [
    "# Summary"
   ]
  },
  {
   "cell_type": "markdown",
   "metadata": {
    "deletable": true,
    "editable": true
   },
   "source": [
    "In summary, we covered the `int`, `string` and `list` types in Python. We also took a look at how loops and conditionals are used in Python. Finally, we used a few in-built functions from the Python standard library."
   ]
  }
 ],
 "metadata": {
  "kernelspec": {
   "display_name": "Python 3",
   "language": "python",
   "name": "python3"
  },
  "language_info": {
   "codemirror_mode": {
    "name": "ipython",
    "version": 3
   },
   "file_extension": ".py",
   "mimetype": "text/x-python",
   "name": "python",
   "nbconvert_exporter": "python",
   "pygments_lexer": "ipython3",
   "version": "3.6.0"
  }
 },
 "nbformat": 4,
 "nbformat_minor": 2
}
