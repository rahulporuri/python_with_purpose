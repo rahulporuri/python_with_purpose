{
 "cells": [
  {
   "cell_type": "markdown",
   "metadata": {
    "deletable": true,
    "editable": true
   },
   "source": [
    "### Opening files using Python"
   ]
  },
  {
   "cell_type": "code",
   "execution_count": 1,
   "metadata": {
    "collapsed": true
   },
   "outputs": [],
   "source": [
    "LINE_DELIMITER = '\\n'\n",
    "COMMENT_CHARACTER = '#'\n",
    "DELIMITER = ','"
   ]
  },
  {
   "cell_type": "code",
   "execution_count": 2,
   "metadata": {
    "collapsed": true,
    "deletable": true,
    "editable": true
   },
   "outputs": [],
   "source": [
    "file_obj = open(\"basics_dataset.txt\", mode='r')"
   ]
  },
  {
   "cell_type": "code",
   "execution_count": 3,
   "metadata": {
    "collapsed": false,
    "deletable": true,
    "editable": true
   },
   "outputs": [
    {
     "data": {
      "text/plain": [
       "'# Sample Dataset \\n0,99,95,0,7,37,43,76,51,0,65\\n1,33,8,18,95,50,54,41,47,32,65\\n2,59,77,5,52,23,20,42,29,4,1\\n3,46,51,4,18,9,96,6,89,31,60\\n4,57,30,56,55,51,69,39,19,81,18\\n5,65,13,6,85,63,39,88,71,62,65\\n6,93,83,0,17,5,78,17,4,65,73\\n7,23,100,5,85,54,50,72,100,47,17\\n8,57,66,38,51,35,29,61,18,24,73\\n9,86,6,43,33,1,59,44,8,91,26\\n'"
      ]
     },
     "execution_count": 3,
     "metadata": {},
     "output_type": "execute_result"
    }
   ],
   "source": [
    "file_obj.read()"
   ]
  },
  {
   "cell_type": "markdown",
   "metadata": {
    "deletable": true,
    "editable": true
   },
   "source": [
    "- Notes on what is returned by the `open` function\n",
    "- Notes on what `file_obj` is and what the `read` method on `file_obj` does and returns\n",
    "- Notes on functions"
   ]
  },
  {
   "cell_type": "code",
   "execution_count": 4,
   "metadata": {
    "collapsed": false,
    "deletable": true,
    "editable": true
   },
   "outputs": [
    {
     "data": {
      "text/plain": [
       "0"
      ]
     },
     "execution_count": 4,
     "metadata": {},
     "output_type": "execute_result"
    }
   ],
   "source": [
    "# Add comment about what the seek method on `file_obj` does\n",
    "file_obj.seek(0)"
   ]
  },
  {
   "cell_type": "code",
   "execution_count": 5,
   "metadata": {
    "collapsed": true,
    "deletable": true,
    "editable": true
   },
   "outputs": [],
   "source": [
    "text_data = file_obj.read()"
   ]
  },
  {
   "cell_type": "code",
   "execution_count": 6,
   "metadata": {
    "collapsed": false,
    "deletable": true,
    "editable": true
   },
   "outputs": [
    {
     "name": "stdout",
     "output_type": "stream",
     "text": [
      "# Sample Dataset \n",
      "0,99,95,0,7,37,43,76,51,0,65\n",
      "1,33,8,18,95,50,54,41,47,32,65\n",
      "2,59,77,5,52,23,20,42,29,4,1\n",
      "3,46,51,4,18,9,96,6,89,31,60\n",
      "4,57,30,56,55,51,69,39,19,81,18\n",
      "5,65,13,6,85,63,39,88,71,62,65\n",
      "6,93,83,0,17,5,78,17,4,65,73\n",
      "7,23,100,5,85,54,50,72,100,47,17\n",
      "8,57,66,38,51,35,29,61,18,24,73\n",
      "9,86,6,43,33,1,59,44,8,91,26\n",
      "\n"
     ]
    }
   ],
   "source": [
    "print(text_data)"
   ]
  },
  {
   "cell_type": "code",
   "execution_count": 7,
   "metadata": {
    "collapsed": false,
    "deletable": true,
    "editable": true
   },
   "outputs": [
    {
     "name": "stdout",
     "output_type": "stream",
     "text": [
      "<class 'str'>\n"
     ]
    }
   ],
   "source": [
    "print(type(text_data))"
   ]
  },
  {
   "cell_type": "markdown",
   "metadata": {
    "deletable": true,
    "editable": true
   },
   "source": [
    "- Notes on the `String` type in Python\n",
    "- Notes on the `type` function in Python"
   ]
  },
  {
   "cell_type": "code",
   "execution_count": 8,
   "metadata": {
    "collapsed": true,
    "deletable": true,
    "editable": true
   },
   "outputs": [],
   "source": [
    "row_wise_text_data = text_data.split(LINE_DELIMITER)"
   ]
  },
  {
   "cell_type": "code",
   "execution_count": 9,
   "metadata": {
    "collapsed": false,
    "deletable": true,
    "editable": true
   },
   "outputs": [
    {
     "name": "stdout",
     "output_type": "stream",
     "text": [
      "['# Sample Dataset ', '0,99,95,0,7,37,43,76,51,0,65', '1,33,8,18,95,50,54,41,47,32,65', '2,59,77,5,52,23,20,42,29,4,1', '3,46,51,4,18,9,96,6,89,31,60', '4,57,30,56,55,51,69,39,19,81,18', '5,65,13,6,85,63,39,88,71,62,65', '6,93,83,0,17,5,78,17,4,65,73', '7,23,100,5,85,54,50,72,100,47,17', '8,57,66,38,51,35,29,61,18,24,73', '9,86,6,43,33,1,59,44,8,91,26', '']\n"
     ]
    }
   ],
   "source": [
    "print(row_wise_text_data)"
   ]
  },
  {
   "cell_type": "markdown",
   "metadata": {
    "deletable": true,
    "editable": true
   },
   "source": [
    "- Notes on what is returned by the `split` method on the `text_data` string type object in Python\n",
    "- Notes on the `list` type in Python"
   ]
  },
  {
   "cell_type": "code",
   "execution_count": 10,
   "metadata": {
    "collapsed": false,
    "deletable": true,
    "editable": true
   },
   "outputs": [
    {
     "name": "stdout",
     "output_type": "stream",
     "text": [
      "['0', '99', '95', '0', '7', '37', '43', '76', '51', '0', '65']\n",
      "['1', '33', '8', '18', '95', '50', '54', '41', '47', '32', '65']\n",
      "['2', '59', '77', '5', '52', '23', '20', '42', '29', '4', '1']\n",
      "['3', '46', '51', '4', '18', '9', '96', '6', '89', '31', '60']\n",
      "['4', '57', '30', '56', '55', '51', '69', '39', '19', '81', '18']\n",
      "['5', '65', '13', '6', '85', '63', '39', '88', '71', '62', '65']\n",
      "['6', '93', '83', '0', '17', '5', '78', '17', '4', '65', '73']\n",
      "['7', '23', '100', '5', '85', '54', '50', '72', '100', '47', '17']\n",
      "['8', '57', '66', '38', '51', '35', '29', '61', '18', '24', '73']\n",
      "['9', '86', '6', '43', '33', '1', '59', '44', '8', '91', '26']\n"
     ]
    }
   ],
   "source": [
    "for row in row_wise_text_data:\n",
    "    if row.startswith(COMMENT_CHARACTER):\n",
    "        continue\n",
    "    elif row == \"\":\n",
    "        continue\n",
    "    else:\n",
    "        col_wise_text_data = row.split(DELIMITER)\n",
    "        print(col_wise_text_data)"
   ]
  },
  {
   "cell_type": "code",
   "execution_count": 11,
   "metadata": {
    "collapsed": false,
    "deletable": true,
    "editable": true
   },
   "outputs": [
    {
     "name": "stdout",
     "output_type": "stream",
     "text": [
      "<class 'list'>\n"
     ]
    }
   ],
   "source": [
    "print(type(col_wise_text_data))"
   ]
  },
  {
   "cell_type": "markdown",
   "metadata": {
    "deletable": true,
    "editable": true
   },
   "source": [
    "- Notes on iteration in Python. Example code showing the C-way of writing loops for comparision.\n",
    "- Notes on what the `startswith` method on a string object does\n",
    "- Notes on what the `split` method on a string object does"
   ]
  },
  {
   "cell_type": "code",
   "execution_count": 12,
   "metadata": {
    "collapsed": true,
    "deletable": true,
    "editable": true
   },
   "outputs": [],
   "source": [
    "dataset = []\n",
    "for row in row_wise_text_data:\n",
    "    if row.startswith(COMMENT_CHARACTER):\n",
    "        continue\n",
    "    elif row == \"\":\n",
    "        continue\n",
    "    else:\n",
    "        col_wise_text_data = row.split(DELIMITER)\n",
    "        dataset.append([int(col_value) for col_value in col_wise_text_data])"
   ]
  },
  {
   "cell_type": "code",
   "execution_count": 13,
   "metadata": {
    "collapsed": false,
    "deletable": true,
    "editable": true
   },
   "outputs": [
    {
     "data": {
      "text/plain": [
       "[[0, 99, 95, 0, 7, 37, 43, 76, 51, 0, 65],\n",
       " [1, 33, 8, 18, 95, 50, 54, 41, 47, 32, 65],\n",
       " [2, 59, 77, 5, 52, 23, 20, 42, 29, 4, 1],\n",
       " [3, 46, 51, 4, 18, 9, 96, 6, 89, 31, 60],\n",
       " [4, 57, 30, 56, 55, 51, 69, 39, 19, 81, 18],\n",
       " [5, 65, 13, 6, 85, 63, 39, 88, 71, 62, 65],\n",
       " [6, 93, 83, 0, 17, 5, 78, 17, 4, 65, 73],\n",
       " [7, 23, 100, 5, 85, 54, 50, 72, 100, 47, 17],\n",
       " [8, 57, 66, 38, 51, 35, 29, 61, 18, 24, 73],\n",
       " [9, 86, 6, 43, 33, 1, 59, 44, 8, 91, 26]]"
      ]
     },
     "execution_count": 13,
     "metadata": {},
     "output_type": "execute_result"
    }
   ],
   "source": [
    "dataset"
   ]
  },
  {
   "cell_type": "markdown",
   "metadata": {
    "deletable": true,
    "editable": true
   },
   "source": [
    "- Notes on implicit loops in python\n",
    "- Notes on what the `int` function does\n",
    "- Notes on what the `append` method does to a list object"
   ]
  },
  {
   "cell_type": "code",
   "execution_count": 14,
   "metadata": {
    "collapsed": false,
    "deletable": true,
    "editable": true
   },
   "outputs": [
    {
     "name": "stdout",
     "output_type": "stream",
     "text": [
      "0 <class 'int'>\n",
      "99 <class 'int'>\n",
      "95 <class 'int'>\n",
      "0 <class 'int'>\n",
      "7 <class 'int'>\n",
      "37 <class 'int'>\n",
      "43 <class 'int'>\n",
      "76 <class 'int'>\n",
      "51 <class 'int'>\n",
      "0 <class 'int'>\n",
      "65 <class 'int'>\n"
     ]
    }
   ],
   "source": [
    "for row in dataset[:1]:\n",
    "    for column in row:\n",
    "        print(column, type(column))"
   ]
  },
  {
   "cell_type": "markdown",
   "metadata": {
    "deletable": true,
    "editable": true
   },
   "source": [
    "- Notes on indexing a list and on iterating over an indexed list"
   ]
  },
  {
   "cell_type": "markdown",
   "metadata": {
    "deletable": true,
    "editable": true
   },
   "source": [
    "### Summary"
   ]
  },
  {
   "cell_type": "markdown",
   "metadata": {
    "deletable": true,
    "editable": true
   },
   "source": [
    "- Basic types in Python covered - int, string, list\n",
    "- Basic concepts in Python covered - loops and conditionals\n",
    "- Concepts from the Python Standard library covered - open, type, int, print"
   ]
  }
 ],
 "metadata": {
  "kernelspec": {
   "display_name": "Python 3",
   "language": "python",
   "name": "python3"
  },
  "language_info": {
   "codemirror_mode": {
    "name": "ipython",
    "version": 3
   },
   "file_extension": ".py",
   "mimetype": "text/x-python",
   "name": "python",
   "nbconvert_exporter": "python",
   "pygments_lexer": "ipython3",
   "version": "3.6.0"
  }
 },
 "nbformat": 4,
 "nbformat_minor": 2
}
