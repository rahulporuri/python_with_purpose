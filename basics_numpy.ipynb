{
 "cells": [
  {
   "cell_type": "code",
   "execution_count": 1,
   "metadata": {
    "collapsed": true
   },
   "outputs": [],
   "source": [
    "import numpy as np"
   ]
  },
  {
   "cell_type": "markdown",
   "metadata": {},
   "source": [
    "- Notes on using external packages"
   ]
  },
  {
   "cell_type": "code",
   "execution_count": 5,
   "metadata": {
    "collapsed": false
   },
   "outputs": [],
   "source": [
    "dataset = np.loadtxt(\"basics_dataset.txt\", delimiter=',')"
   ]
  },
  {
   "cell_type": "code",
   "execution_count": 6,
   "metadata": {
    "collapsed": false
   },
   "outputs": [
    {
     "name": "stdout",
     "output_type": "stream",
     "text": [
      "[[   0.   99.   95.    0.    7.   37.   43.   76.   51.    0.   65.]\n",
      " [   1.   33.    8.   18.   95.   50.   54.   41.   47.   32.   65.]\n",
      " [   2.   59.   77.    5.   52.   23.   20.   42.   29.    4.    1.]\n",
      " [   3.   46.   51.    4.   18.    9.   96.    6.   89.   31.   60.]\n",
      " [   4.   57.   30.   56.   55.   51.   69.   39.   19.   81.   18.]\n",
      " [   5.   65.   13.    6.   85.   63.   39.   88.   71.   62.   65.]\n",
      " [   6.   93.   83.    0.   17.    5.   78.   17.    4.   65.   73.]\n",
      " [   7.   23.  100.    5.   85.   54.   50.   72.  100.   47.   17.]\n",
      " [   8.   57.   66.   38.   51.   35.   29.   61.   18.   24.   73.]\n",
      " [   9.   86.    6.   43.   33.    1.   59.   44.    8.   91.   26.]]\n"
     ]
    }
   ],
   "source": [
    "print(dataset)"
   ]
  },
  {
   "cell_type": "code",
   "execution_count": 7,
   "metadata": {
    "collapsed": false
   },
   "outputs": [
    {
     "name": "stdout",
     "output_type": "stream",
     "text": [
      "<class 'numpy.ndarray'>\n"
     ]
    }
   ],
   "source": [
    "print(type(dataset))"
   ]
  },
  {
   "cell_type": "markdown",
   "metadata": {},
   "source": [
    "- Notes on the the numpy NDArray object"
   ]
  },
  {
   "cell_type": "code",
   "execution_count": 12,
   "metadata": {
    "collapsed": false
   },
   "outputs": [
    {
     "data": {
      "text/plain": [
       "array([  0.,  99.,  95.,   0.,   7.,  37.,  43.,  76.,  51.,   0.,  65.])"
      ]
     },
     "execution_count": 12,
     "metadata": {},
     "output_type": "execute_result"
    }
   ],
   "source": [
    "dataset[0]"
   ]
  },
  {
   "cell_type": "code",
   "execution_count": 13,
   "metadata": {
    "collapsed": false
   },
   "outputs": [
    {
     "data": {
      "text/plain": [
       "array([  0.,  99.,  95.,   0.,   7.,  37.,  43.,  76.,  51.,   0.,  65.])"
      ]
     },
     "execution_count": 13,
     "metadata": {},
     "output_type": "execute_result"
    }
   ],
   "source": [
    "dataset[0, :]"
   ]
  },
  {
   "cell_type": "code",
   "execution_count": 14,
   "metadata": {
    "collapsed": false
   },
   "outputs": [
    {
     "data": {
      "text/plain": [
       "array([ 0.,  1.,  2.,  3.,  4.,  5.,  6.,  7.,  8.,  9.])"
      ]
     },
     "execution_count": 14,
     "metadata": {},
     "output_type": "execute_result"
    }
   ],
   "source": [
    "dataset[:, 0]"
   ]
  },
  {
   "cell_type": "code",
   "execution_count": 16,
   "metadata": {
    "collapsed": false
   },
   "outputs": [
    {
     "data": {
      "text/plain": [
       "array([  9.,  86.,   6.,  43.,  33.,   1.,  59.,  44.,   8.,  91.,  26.])"
      ]
     },
     "execution_count": 16,
     "metadata": {},
     "output_type": "execute_result"
    }
   ],
   "source": [
    "dataset[-1]"
   ]
  },
  {
   "cell_type": "code",
   "execution_count": 15,
   "metadata": {
    "collapsed": false
   },
   "outputs": [
    {
     "data": {
      "text/plain": [
       "array([ 65.,  65.,   1.,  60.,  18.,  65.,  73.,  17.,  73.,  26.])"
      ]
     },
     "execution_count": 15,
     "metadata": {},
     "output_type": "execute_result"
    }
   ],
   "source": [
    "dataset[:, -1]"
   ]
  },
  {
   "cell_type": "markdown",
   "metadata": {},
   "source": [
    "- Notes on indexing lists and numpy NDArrays\n",
    "- Note on advanced indexing"
   ]
  },
  {
   "cell_type": "code",
   "execution_count": 20,
   "metadata": {
    "collapsed": false
   },
   "outputs": [
    {
     "data": {
      "text/plain": [
       "array([[  0.,  99.],\n",
       "       [  1.,  33.],\n",
       "       [  2.,  59.],\n",
       "       [  3.,  46.],\n",
       "       [  4.,  57.],\n",
       "       [  5.,  65.],\n",
       "       [  6.,  93.],\n",
       "       [  7.,  23.],\n",
       "       [  8.,  57.],\n",
       "       [  9.,  86.]])"
      ]
     },
     "execution_count": 20,
     "metadata": {},
     "output_type": "execute_result"
    }
   ],
   "source": [
    "dataset[:, :2]"
   ]
  },
  {
   "cell_type": "code",
   "execution_count": 21,
   "metadata": {
    "collapsed": false
   },
   "outputs": [
    {
     "data": {
      "text/plain": [
       "array([[  1.,  33.,   8.,  18.,  95.,  50.,  54.,  41.,  47.,  32.,  65.],\n",
       "       [  2.,  59.,  77.,   5.,  52.,  23.,  20.,  42.,  29.,   4.,   1.],\n",
       "       [  3.,  46.,  51.,   4.,  18.,   9.,  96.,   6.,  89.,  31.,  60.]])"
      ]
     },
     "execution_count": 21,
     "metadata": {},
     "output_type": "execute_result"
    }
   ],
   "source": [
    "dataset[1:4, :]"
   ]
  }
 ],
 "metadata": {
  "kernelspec": {
   "display_name": "Python 3",
   "language": "python",
   "name": "python3"
  },
  "language_info": {
   "codemirror_mode": {
    "name": "ipython",
    "version": 3
   },
   "file_extension": ".py",
   "mimetype": "text/x-python",
   "name": "python",
   "nbconvert_exporter": "python",
   "pygments_lexer": "ipython3",
   "version": "3.6.0"
  }
 },
 "nbformat": 4,
 "nbformat_minor": 2
}
