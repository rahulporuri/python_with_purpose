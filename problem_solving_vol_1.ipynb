{
 "cells": [
  {
   "cell_type": "markdown",
   "metadata": {
    "deletable": true,
    "editable": true
   },
   "source": [
    "`python_with_purpose (master)$ touch script_in_python.py`\n",
    "\n",
    "`python_with_purpose (master)$ python script_in_python.py`"
   ]
  },
  {
   "cell_type": "code",
   "execution_count": 1,
   "metadata": {
    "collapsed": false,
    "deletable": true,
    "editable": true
   },
   "outputs": [
    {
     "name": "stdout",
     "output_type": "stream",
     "text": [
      "Stop! Hammer Time!\n"
     ]
    }
   ],
   "source": [
    "print(\"Stop! Hammer Time!\")"
   ]
  },
  {
   "cell_type": "code",
   "execution_count": 2,
   "metadata": {
    "collapsed": false,
    "deletable": true,
    "editable": true
   },
   "outputs": [
    {
     "name": "stdout",
     "output_type": "stream",
     "text": [
      "Stop! Hammer Time!\r\n"
     ]
    }
   ],
   "source": [
    "!python script_in_python.py"
   ]
  },
  {
   "cell_type": "markdown",
   "metadata": {},
   "source": [
    "## # 'sepal length (cm)', 'sepal width (cm)', 'petal length (cm)', 'petal width (cm)'"
   ]
  },
  {
   "cell_type": "code",
   "execution_count": 3,
   "metadata": {
    "collapsed": false,
    "deletable": true,
    "editable": true
   },
   "outputs": [
    {
     "name": "stdout",
     "output_type": "stream",
     "text": [
      "5.1,3.5,1.4,0.2,0\r\n",
      "4.9,3.0,1.4,0.2,0\r\n",
      "4.7,3.2,1.3,0.2,0\r\n",
      "4.6,3.1,1.5,0.2,0\r\n",
      "5.0,3.6,1.4,0.2,0\r\n",
      "5.4,3.9,1.7,0.4,0\r\n",
      "4.6,3.4,1.4,0.3,0\r\n",
      "5.0,3.4,1.5,0.2,0\r\n",
      "4.4,2.9,1.4,0.2,0\r\n",
      "4.9,3.1,1.5,0.1,0\r\n"
     ]
    }
   ],
   "source": [
    "!head iris.csv"
   ]
  },
  {
   "cell_type": "code",
   "execution_count": 4,
   "metadata": {
    "collapsed": false,
    "deletable": true,
    "editable": true
   },
   "outputs": [
    {
     "name": "stdout",
     "output_type": "stream",
     "text": [
      "Help on built-in function open in module io:\n",
      "\n",
      "open(file, mode='r', buffering=-1, encoding=None, errors=None, newline=None, closefd=True, opener=None)\n",
      "    Open file and return a stream.  Raise IOError upon failure.\n",
      "    \n",
      "    file is either a text or byte string giving the name (and the path\n",
      "    if the file isn't in the current working directory) of the file to\n",
      "    be opened or an integer file descriptor of the file to be\n",
      "    wrapped. (If a file descriptor is given, it is closed when the\n",
      "    returned I/O object is closed, unless closefd is set to False.)\n",
      "    \n",
      "    mode is an optional string that specifies the mode in which the file\n",
      "    is opened. It defaults to 'r' which means open for reading in text\n",
      "    mode.  Other common values are 'w' for writing (truncating the file if\n",
      "    it already exists), 'x' for creating and writing to a new file, and\n",
      "    'a' for appending (which on some Unix systems, means that all writes\n",
      "    append to the end of the file regardless of the current seek position).\n",
      "    In text mode, if encoding is not specified the encoding used is platform\n",
      "    dependent: locale.getpreferredencoding(False) is called to get the\n",
      "    current locale encoding. (For reading and writing raw bytes use binary\n",
      "    mode and leave encoding unspecified.) The available modes are:\n",
      "    \n",
      "    ========= ===============================================================\n",
      "    Character Meaning\n",
      "    --------- ---------------------------------------------------------------\n",
      "    'r'       open for reading (default)\n",
      "    'w'       open for writing, truncating the file first\n",
      "    'x'       create a new file and open it for writing\n",
      "    'a'       open for writing, appending to the end of the file if it exists\n",
      "    'b'       binary mode\n",
      "    't'       text mode (default)\n",
      "    '+'       open a disk file for updating (reading and writing)\n",
      "    'U'       universal newline mode (deprecated)\n",
      "    ========= ===============================================================\n",
      "    \n",
      "    The default mode is 'rt' (open for reading text). For binary random\n",
      "    access, the mode 'w+b' opens and truncates the file to 0 bytes, while\n",
      "    'r+b' opens the file without truncation. The 'x' mode implies 'w' and\n",
      "    raises an `FileExistsError` if the file already exists.\n",
      "    \n",
      "    Python distinguishes between files opened in binary and text modes,\n",
      "    even when the underlying operating system doesn't. Files opened in\n",
      "    binary mode (appending 'b' to the mode argument) return contents as\n",
      "    bytes objects without any decoding. In text mode (the default, or when\n",
      "    't' is appended to the mode argument), the contents of the file are\n",
      "    returned as strings, the bytes having been first decoded using a\n",
      "    platform-dependent encoding or using the specified encoding if given.\n",
      "    \n",
      "    'U' mode is deprecated and will raise an exception in future versions\n",
      "    of Python.  It has no effect in Python 3.  Use newline to control\n",
      "    universal newlines mode.\n",
      "    \n",
      "    buffering is an optional integer used to set the buffering policy.\n",
      "    Pass 0 to switch buffering off (only allowed in binary mode), 1 to select\n",
      "    line buffering (only usable in text mode), and an integer > 1 to indicate\n",
      "    the size of a fixed-size chunk buffer.  When no buffering argument is\n",
      "    given, the default buffering policy works as follows:\n",
      "    \n",
      "    * Binary files are buffered in fixed-size chunks; the size of the buffer\n",
      "      is chosen using a heuristic trying to determine the underlying device's\n",
      "      \"block size\" and falling back on `io.DEFAULT_BUFFER_SIZE`.\n",
      "      On many systems, the buffer will typically be 4096 or 8192 bytes long.\n",
      "    \n",
      "    * \"Interactive\" text files (files for which isatty() returns True)\n",
      "      use line buffering.  Other text files use the policy described above\n",
      "      for binary files.\n",
      "    \n",
      "    encoding is the name of the encoding used to decode or encode the\n",
      "    file. This should only be used in text mode. The default encoding is\n",
      "    platform dependent, but any encoding supported by Python can be\n",
      "    passed.  See the codecs module for the list of supported encodings.\n",
      "    \n",
      "    errors is an optional string that specifies how encoding errors are to\n",
      "    be handled---this argument should not be used in binary mode. Pass\n",
      "    'strict' to raise a ValueError exception if there is an encoding error\n",
      "    (the default of None has the same effect), or pass 'ignore' to ignore\n",
      "    errors. (Note that ignoring encoding errors can lead to data loss.)\n",
      "    See the documentation for codecs.register or run 'help(codecs.Codec)'\n",
      "    for a list of the permitted encoding error strings.\n",
      "    \n",
      "    newline controls how universal newlines works (it only applies to text\n",
      "    mode). It can be None, '', '\\n', '\\r', and '\\r\\n'.  It works as\n",
      "    follows:\n",
      "    \n",
      "    * On input, if newline is None, universal newlines mode is\n",
      "      enabled. Lines in the input can end in '\\n', '\\r', or '\\r\\n', and\n",
      "      these are translated into '\\n' before being returned to the\n",
      "      caller. If it is '', universal newline mode is enabled, but line\n",
      "      endings are returned to the caller untranslated. If it has any of\n",
      "      the other legal values, input lines are only terminated by the given\n",
      "      string, and the line ending is returned to the caller untranslated.\n",
      "    \n",
      "    * On output, if newline is None, any '\\n' characters written are\n",
      "      translated to the system default line separator, os.linesep. If\n",
      "      newline is '' or '\\n', no translation takes place. If newline is any\n",
      "      of the other legal values, any '\\n' characters written are translated\n",
      "      to the given string.\n",
      "    \n",
      "    If closefd is False, the underlying file descriptor will be kept open\n",
      "    when the file is closed. This does not work when a file name is given\n",
      "    and must be True in that case.\n",
      "    \n",
      "    A custom opener can be used by passing a callable as *opener*. The\n",
      "    underlying file descriptor for the file object is then obtained by\n",
      "    calling *opener* with (*file*, *flags*). *opener* must return an open\n",
      "    file descriptor (passing os.open as *opener* results in functionality\n",
      "    similar to passing None).\n",
      "    \n",
      "    open() returns a file object whose type depends on the mode, and\n",
      "    through which the standard file operations such as reading and writing\n",
      "    are performed. When open() is used to open a file in a text mode ('w',\n",
      "    'r', 'wt', 'rt', etc.), it returns a TextIOWrapper. When used to open\n",
      "    a file in a binary mode, the returned class varies: in read binary\n",
      "    mode, it returns a BufferedReader; in write binary and append binary\n",
      "    modes, it returns a BufferedWriter, and in read/write mode, it returns\n",
      "    a BufferedRandom.\n",
      "    \n",
      "    It is also possible to use a string or bytearray as a file for both\n",
      "    reading and writing. For strings StringIO can be used like a file\n",
      "    opened in a text mode, and for bytes a BytesIO can be used like a file\n",
      "    opened in a binary mode.\n",
      "\n"
     ]
    }
   ],
   "source": [
    "help(open)"
   ]
  },
  {
   "cell_type": "code",
   "execution_count": 5,
   "metadata": {
    "collapsed": false,
    "deletable": true,
    "editable": true
   },
   "outputs": [],
   "source": [
    "f = open(\"iris.csv\")"
   ]
  },
  {
   "cell_type": "code",
   "execution_count": 6,
   "metadata": {
    "collapsed": false,
    "deletable": true,
    "editable": true
   },
   "outputs": [
    {
     "name": "stdout",
     "output_type": "stream",
     "text": [
      "<_io.TextIOWrapper name='iris.csv' mode='r' encoding='UTF-8'>\n"
     ]
    }
   ],
   "source": [
    "print(f)"
   ]
  },
  {
   "cell_type": "code",
   "execution_count": 7,
   "metadata": {
    "collapsed": false,
    "deletable": true,
    "editable": true
   },
   "outputs": [
    {
     "data": {
      "text/plain": [
       "'5.1,3.5,1.4,0.2,0\\n4.9,3.0,1.4,0.2,0\\n4.7,3.2,1.3,0.2,0\\n4.6,3.1,1.5,0.2,0\\n5.0,3.6,1.4,0.2,0\\n5.4,3.9,1.7,0.4,0\\n4.6,3.4,1.4,0.3,0\\n5.0,3.4,1.5,0.2,0\\n4.4,2.9,1.4,0.2,0\\n4.9,3.1,1.5,0.1,0\\n5.4,3.7,1.5,0.2,0\\n4.8,3.4,1.6,0.2,0\\n4.8,3.0,1.4,0.1,0\\n4.3,3.0,1.1,0.1,0\\n5.8,4.0,1.2,0.2,0\\n5.7,4.4,1.5,0.4,0\\n5.4,3.9,1.3,0.4,0\\n5.1,3.5,1.4,0.3,0\\n5.7,3.8,1.7,0.3,0\\n5.1,3.8,1.5,0.3,0\\n5.4,3.4,1.7,0.2,0\\n5.1,3.7,1.5,0.4,0\\n4.6,3.6,1.0,0.2,0\\n5.1,3.3,1.7,0.5,0\\n4.8,3.4,1.9,0.2,0\\n5.0,3.0,1.6,0.2,0\\n5.0,3.4,1.6,0.4,0\\n5.2,3.5,1.5,0.2,0\\n5.2,3.4,1.4,0.2,0\\n4.7,3.2,1.6,0.2,0\\n4.8,3.1,1.6,0.2,0\\n5.4,3.4,1.5,0.4,0\\n5.2,4.1,1.5,0.1,0\\n5.5,4.2,1.4,0.2,0\\n4.9,3.1,1.5,0.1,0\\n5.0,3.2,1.2,0.2,0\\n5.5,3.5,1.3,0.2,0\\n4.9,3.1,1.5,0.1,0\\n4.4,3.0,1.3,0.2,0\\n5.1,3.4,1.5,0.2,0\\n5.0,3.5,1.3,0.3,0\\n4.5,2.3,1.3,0.3,0\\n4.4,3.2,1.3,0.2,0\\n5.0,3.5,1.6,0.6,0\\n5.1,3.8,1.9,0.4,0\\n4.8,3.0,1.4,0.3,0\\n5.1,3.8,1.6,0.2,0\\n4.6,3.2,1.4,0.2,0\\n5.3,3.7,1.5,0.2,0\\n5.0,3.3,1.4,0.2,0\\n7.0,3.2,4.7,1.4,1\\n6.4,3.2,4.5,1.5,1\\n6.9,3.1,4.9,1.5,1\\n5.5,2.3,4.0,1.3,1\\n6.5,2.8,4.6,1.5,1\\n5.7,2.8,4.5,1.3,1\\n6.3,3.3,4.7,1.6,1\\n4.9,2.4,3.3,1.0,1\\n6.6,2.9,4.6,1.3,1\\n5.2,2.7,3.9,1.4,1\\n5.0,2.0,3.5,1.0,1\\n5.9,3.0,4.2,1.5,1\\n6.0,2.2,4.0,1.0,1\\n6.1,2.9,4.7,1.4,1\\n5.6,2.9,3.6,1.3,1\\n6.7,3.1,4.4,1.4,1\\n5.6,3.0,4.5,1.5,1\\n5.8,2.7,4.1,1.0,1\\n6.2,2.2,4.5,1.5,1\\n5.6,2.5,3.9,1.1,1\\n5.9,3.2,4.8,1.8,1\\n6.1,2.8,4.0,1.3,1\\n6.3,2.5,4.9,1.5,1\\n6.1,2.8,4.7,1.2,1\\n6.4,2.9,4.3,1.3,1\\n6.6,3.0,4.4,1.4,1\\n6.8,2.8,4.8,1.4,1\\n6.7,3.0,5.0,1.7,1\\n6.0,2.9,4.5,1.5,1\\n5.7,2.6,3.5,1.0,1\\n5.5,2.4,3.8,1.1,1\\n5.5,2.4,3.7,1.0,1\\n5.8,2.7,3.9,1.2,1\\n6.0,2.7,5.1,1.6,1\\n5.4,3.0,4.5,1.5,1\\n6.0,3.4,4.5,1.6,1\\n6.7,3.1,4.7,1.5,1\\n6.3,2.3,4.4,1.3,1\\n5.6,3.0,4.1,1.3,1\\n5.5,2.5,4.0,1.3,1\\n5.5,2.6,4.4,1.2,1\\n6.1,3.0,4.6,1.4,1\\n5.8,2.6,4.0,1.2,1\\n5.0,2.3,3.3,1.0,1\\n5.6,2.7,4.2,1.3,1\\n5.7,3.0,4.2,1.2,1\\n5.7,2.9,4.2,1.3,1\\n6.2,2.9,4.3,1.3,1\\n5.1,2.5,3.0,1.1,1\\n5.7,2.8,4.1,1.3,1\\n6.3,3.3,6.0,2.5,2\\n5.8,2.7,5.1,1.9,2\\n7.1,3.0,5.9,2.1,2\\n6.3,2.9,5.6,1.8,2\\n6.5,3.0,5.8,2.2,2\\n7.6,3.0,6.6,2.1,2\\n4.9,2.5,4.5,1.7,2\\n7.3,2.9,6.3,1.8,2\\n6.7,2.5,5.8,1.8,2\\n7.2,3.6,6.1,2.5,2\\n6.5,3.2,5.1,2.0,2\\n6.4,2.7,5.3,1.9,2\\n6.8,3.0,5.5,2.1,2\\n5.7,2.5,5.0,2.0,2\\n5.8,2.8,5.1,2.4,2\\n6.4,3.2,5.3,2.3,2\\n6.5,3.0,5.5,1.8,2\\n7.7,3.8,6.7,2.2,2\\n7.7,2.6,6.9,2.3,2\\n6.0,2.2,5.0,1.5,2\\n6.9,3.2,5.7,2.3,2\\n5.6,2.8,4.9,2.0,2\\n7.7,2.8,6.7,2.0,2\\n6.3,2.7,4.9,1.8,2\\n6.7,3.3,5.7,2.1,2\\n7.2,3.2,6.0,1.8,2\\n6.2,2.8,4.8,1.8,2\\n6.1,3.0,4.9,1.8,2\\n6.4,2.8,5.6,2.1,2\\n7.2,3.0,5.8,1.6,2\\n7.4,2.8,6.1,1.9,2\\n7.9,3.8,6.4,2.0,2\\n6.4,2.8,5.6,2.2,2\\n6.3,2.8,5.1,1.5,2\\n6.1,2.6,5.6,1.4,2\\n7.7,3.0,6.1,2.3,2\\n6.3,3.4,5.6,2.4,2\\n6.4,3.1,5.5,1.8,2\\n6.0,3.0,4.8,1.8,2\\n6.9,3.1,5.4,2.1,2\\n6.7,3.1,5.6,2.4,2\\n6.9,3.1,5.1,2.3,2\\n5.8,2.7,5.1,1.9,2\\n6.8,3.2,5.9,2.3,2\\n6.7,3.3,5.7,2.5,2\\n6.7,3.0,5.2,2.3,2\\n6.3,2.5,5.0,1.9,2\\n6.5,3.0,5.2,2.0,2\\n6.2,3.4,5.4,2.3,2\\n5.9,3.0,5.1,1.8,2\\n'"
      ]
     },
     "execution_count": 7,
     "metadata": {},
     "output_type": "execute_result"
    }
   ],
   "source": [
    "f.seek(0)\n",
    "f.read()"
   ]
  },
  {
   "cell_type": "code",
   "execution_count": 8,
   "metadata": {
    "collapsed": false,
    "deletable": true,
    "editable": true
   },
   "outputs": [],
   "source": [
    "f.seek(0)\n",
    "data = f.read()\n",
    "lines = data.split('\\n')\n",
    "n = len(lines)\n",
    "a = []\n",
    "b = []\n",
    "c = []\n",
    "d = []\n",
    "for i in range(n-1):\n",
    "    line = lines[i]\n",
    "    line_data = line.split(',')\n",
    "    a.append(line_data[0])\n",
    "    b.append(line_data[1])\n",
    "    c.append(line_data[2])\n",
    "    d.append(line_data[3])"
   ]
  },
  {
   "cell_type": "code",
   "execution_count": 9,
   "metadata": {
    "collapsed": false,
    "deletable": true,
    "editable": true
   },
   "outputs": [
    {
     "name": "stdout",
     "output_type": "stream",
     "text": [
      "['5.1', '4.9', '4.7', '4.6', '5.0', '5.4', '4.6', '5.0', '4.4', '4.9', '5.4', '4.8', '4.8', '4.3', '5.8', '5.7', '5.4', '5.1', '5.7', '5.1', '5.4', '5.1', '4.6', '5.1', '4.8', '5.0', '5.0', '5.2', '5.2', '4.7', '4.8', '5.4', '5.2', '5.5', '4.9', '5.0', '5.5', '4.9', '4.4', '5.1', '5.0', '4.5', '4.4', '5.0', '5.1', '4.8', '5.1', '4.6', '5.3', '5.0', '7.0', '6.4', '6.9', '5.5', '6.5', '5.7', '6.3', '4.9', '6.6', '5.2', '5.0', '5.9', '6.0', '6.1', '5.6', '6.7', '5.6', '5.8', '6.2', '5.6', '5.9', '6.1', '6.3', '6.1', '6.4', '6.6', '6.8', '6.7', '6.0', '5.7', '5.5', '5.5', '5.8', '6.0', '5.4', '6.0', '6.7', '6.3', '5.6', '5.5', '5.5', '6.1', '5.8', '5.0', '5.6', '5.7', '5.7', '6.2', '5.1', '5.7', '6.3', '5.8', '7.1', '6.3', '6.5', '7.6', '4.9', '7.3', '6.7', '7.2', '6.5', '6.4', '6.8', '5.7', '5.8', '6.4', '6.5', '7.7', '7.7', '6.0', '6.9', '5.6', '7.7', '6.3', '6.7', '7.2', '6.2', '6.1', '6.4', '7.2', '7.4', '7.9', '6.4', '6.3', '6.1', '7.7', '6.3', '6.4', '6.0', '6.9', '6.7', '6.9', '5.8', '6.8', '6.7', '6.7', '6.3', '6.5', '6.2', '5.9']\n"
     ]
    }
   ],
   "source": [
    "print(a)"
   ]
  },
  {
   "cell_type": "code",
   "execution_count": 10,
   "metadata": {
    "collapsed": false,
    "deletable": true,
    "editable": true
   },
   "outputs": [],
   "source": [
    "f.seek(0)\n",
    "data = f.read()\n",
    "lines = data.split('\\n')\n",
    "n = len(lines)\n",
    "a = []\n",
    "b = []\n",
    "c = []\n",
    "d = []\n",
    "for i in range(n-1):\n",
    "    line = lines[i]\n",
    "    line_data = line.split(',')\n",
    "    a.append(float(line_data[0]))\n",
    "    b.append(float(line_data[1]))\n",
    "    c.append(float(line_data[2]))\n",
    "    d.append(float(line_data[3]))"
   ]
  },
  {
   "cell_type": "code",
   "execution_count": 11,
   "metadata": {
    "collapsed": false,
    "deletable": true,
    "editable": true
   },
   "outputs": [
    {
     "name": "stdout",
     "output_type": "stream",
     "text": [
      "[5.1, 4.9, 4.7, 4.6, 5.0, 5.4, 4.6, 5.0, 4.4, 4.9, 5.4, 4.8, 4.8, 4.3, 5.8, 5.7, 5.4, 5.1, 5.7, 5.1, 5.4, 5.1, 4.6, 5.1, 4.8, 5.0, 5.0, 5.2, 5.2, 4.7, 4.8, 5.4, 5.2, 5.5, 4.9, 5.0, 5.5, 4.9, 4.4, 5.1, 5.0, 4.5, 4.4, 5.0, 5.1, 4.8, 5.1, 4.6, 5.3, 5.0, 7.0, 6.4, 6.9, 5.5, 6.5, 5.7, 6.3, 4.9, 6.6, 5.2, 5.0, 5.9, 6.0, 6.1, 5.6, 6.7, 5.6, 5.8, 6.2, 5.6, 5.9, 6.1, 6.3, 6.1, 6.4, 6.6, 6.8, 6.7, 6.0, 5.7, 5.5, 5.5, 5.8, 6.0, 5.4, 6.0, 6.7, 6.3, 5.6, 5.5, 5.5, 6.1, 5.8, 5.0, 5.6, 5.7, 5.7, 6.2, 5.1, 5.7, 6.3, 5.8, 7.1, 6.3, 6.5, 7.6, 4.9, 7.3, 6.7, 7.2, 6.5, 6.4, 6.8, 5.7, 5.8, 6.4, 6.5, 7.7, 7.7, 6.0, 6.9, 5.6, 7.7, 6.3, 6.7, 7.2, 6.2, 6.1, 6.4, 7.2, 7.4, 7.9, 6.4, 6.3, 6.1, 7.7, 6.3, 6.4, 6.0, 6.9, 6.7, 6.9, 5.8, 6.8, 6.7, 6.7, 6.3, 6.5, 6.2, 5.9]\n"
     ]
    }
   ],
   "source": [
    "print(a)"
   ]
  },
  {
   "cell_type": "code",
   "execution_count": 12,
   "metadata": {
    "collapsed": false,
    "deletable": true,
    "editable": true
   },
   "outputs": [],
   "source": [
    "f.seek(0)\n",
    "data = f.read()\n",
    "lines = data.split('\\n')\n",
    "a = []\n",
    "b = []\n",
    "c = []\n",
    "d = []\n",
    "for line in lines[:-1]:\n",
    "    line_data = line.split(',')\n",
    "    a.append(float(line_data[0]))\n",
    "    b.append(float(line_data[1]))\n",
    "    c.append(float(line_data[2]))\n",
    "    d.append(float(line_data[3]))"
   ]
  },
  {
   "cell_type": "code",
   "execution_count": 13,
   "metadata": {
    "collapsed": false,
    "deletable": true,
    "editable": true
   },
   "outputs": [
    {
     "name": "stdout",
     "output_type": "stream",
     "text": [
      "[5.1, 4.9, 4.7, 4.6, 5.0, 5.4, 4.6, 5.0, 4.4, 4.9, 5.4, 4.8, 4.8, 4.3, 5.8, 5.7, 5.4, 5.1, 5.7, 5.1, 5.4, 5.1, 4.6, 5.1, 4.8, 5.0, 5.0, 5.2, 5.2, 4.7, 4.8, 5.4, 5.2, 5.5, 4.9, 5.0, 5.5, 4.9, 4.4, 5.1, 5.0, 4.5, 4.4, 5.0, 5.1, 4.8, 5.1, 4.6, 5.3, 5.0, 7.0, 6.4, 6.9, 5.5, 6.5, 5.7, 6.3, 4.9, 6.6, 5.2, 5.0, 5.9, 6.0, 6.1, 5.6, 6.7, 5.6, 5.8, 6.2, 5.6, 5.9, 6.1, 6.3, 6.1, 6.4, 6.6, 6.8, 6.7, 6.0, 5.7, 5.5, 5.5, 5.8, 6.0, 5.4, 6.0, 6.7, 6.3, 5.6, 5.5, 5.5, 6.1, 5.8, 5.0, 5.6, 5.7, 5.7, 6.2, 5.1, 5.7, 6.3, 5.8, 7.1, 6.3, 6.5, 7.6, 4.9, 7.3, 6.7, 7.2, 6.5, 6.4, 6.8, 5.7, 5.8, 6.4, 6.5, 7.7, 7.7, 6.0, 6.9, 5.6, 7.7, 6.3, 6.7, 7.2, 6.2, 6.1, 6.4, 7.2, 7.4, 7.9, 6.4, 6.3, 6.1, 7.7, 6.3, 6.4, 6.0, 6.9, 6.7, 6.9, 5.8, 6.8, 6.7, 6.7, 6.3, 6.5, 6.2, 5.9]\n"
     ]
    }
   ],
   "source": [
    "print(a)"
   ]
  },
  {
   "cell_type": "markdown",
   "metadata": {
    "deletable": true,
    "editable": true
   },
   "source": [
    "### Alternative to reading and splitting is reading lines"
   ]
  },
  {
   "cell_type": "code",
   "execution_count": 14,
   "metadata": {
    "collapsed": false,
    "deletable": true,
    "editable": true
   },
   "outputs": [],
   "source": [
    "f.seek(0)\n",
    "lines = f.readlines()\n",
    "a = []\n",
    "b = []\n",
    "c = []\n",
    "d = []\n",
    "for line in lines[:-1]:\n",
    "    line_data = line.strip('\\n').split(',')\n",
    "    a.append(float(line_data[0]))\n",
    "    b.append(float(line_data[1]))\n",
    "    c.append(float(line_data[2]))\n",
    "    d.append(float(line_data[3]))"
   ]
  },
  {
   "cell_type": "code",
   "execution_count": 33,
   "metadata": {
    "collapsed": true
   },
   "outputs": [],
   "source": [
    "new_f = open('iris_copy.csv', 'w')\n",
    "n = len(a)\n",
    "for i in range(n):\n",
    "    line = str(a[i]) + \" \" + str(b[i]) + \" \" + str(c[i]) + \" \" + str(d[i]) + \"\\n\"\n",
    "    new_f.write(line)\n",
    "new_f.close()"
   ]
  },
  {
   "cell_type": "code",
   "execution_count": 34,
   "metadata": {
    "collapsed": false
   },
   "outputs": [
    {
     "name": "stdout",
     "output_type": "stream",
     "text": [
      "5.1 3.5 1.4 0.2\r\n",
      "4.9 3.0 1.4 0.2\r\n",
      "4.7 3.2 1.3 0.2\r\n",
      "4.6 3.1 1.5 0.2\r\n",
      "5.0 3.6 1.4 0.2\r\n",
      "5.4 3.9 1.7 0.4\r\n",
      "4.6 3.4 1.4 0.3\r\n",
      "5.0 3.4 1.5 0.2\r\n",
      "4.4 2.9 1.4 0.2\r\n",
      "4.9 3.1 1.5 0.1\r\n"
     ]
    }
   ],
   "source": [
    "!head iris_copy.csv"
   ]
  },
  {
   "cell_type": "code",
   "execution_count": 35,
   "metadata": {
    "collapsed": true
   },
   "outputs": [],
   "source": [
    "new_f = open('iris_copy.csv', 'w')\n",
    "n = len(a)\n",
    "for i in range(n):\n",
    "    line = \"{0} {1} {2} {3}\".format(a[i], b[i], c[i], d[i])\n",
    "    new_f.write(line)\n",
    "new_f.close()"
   ]
  },
  {
   "cell_type": "code",
   "execution_count": null,
   "metadata": {
    "collapsed": true
   },
   "outputs": [],
   "source": [
    "new_f = open('iris_copy.csv', 'w')\n",
    "for a_i, i in enumerate(a):\n",
    "    line = \"{0} {1} {2} {3}\".format(a_i, b[i], c[i], d[i])\n",
    "    new_f.write(line)\n",
    "new_f.close()"
   ]
  },
  {
   "cell_type": "code",
   "execution_count": null,
   "metadata": {
    "collapsed": true
   },
   "outputs": [],
   "source": [
    "new_f = open('iris_copy.csv', 'w')\n",
    "for a_i, b_i, c_i, d_i in zip(a, b, c, d):\n",
    "    line = \"{0} {1} {2} {3}\".format(a[i], b[i], c[i], d[i])\n",
    "    new_f.write(line)\n",
    "new_f.close()"
   ]
  },
  {
   "cell_type": "code",
   "execution_count": 36,
   "metadata": {
    "collapsed": false
   },
   "outputs": [
    {
     "name": "stdout",
     "output_type": "stream",
     "text": [
      "5.1 3.5 1.4 0.24.9 3.0 1.4 0.24.7 3.2 1.3 0.24.6 3.1 1.5 0.25.0 3.6 1.4 0.25.4 3.9 1.7 0.44.6 3.4 1.4 0.35.0 3.4 1.5 0.24.4 2.9 1.4 0.24.9 3.1 1.5 0.15.4 3.7 1.5 0.24.8 3.4 1.6 0.24.8 3.0 1.4 0.14.3 3.0 1.1 0.15.8 4.0 1.2 0.25.7 4.4 1.5 0.45.4 3.9 1.3 0.45.1 3.5 1.4 0.35.7 3.8 1.7 0.35.1 3.8 1.5 0.35.4 3.4 1.7 0.25.1 3.7 1.5 0.44.6 3.6 1.0 0.25.1 3.3 1.7 0.54.8 3.4 1.9 0.25.0 3.0 1.6 0.25.0 3.4 1.6 0.45.2 3.5 1.5 0.25.2 3.4 1.4 0.24.7 3.2 1.6 0.24.8 3.1 1.6 0.25.4 3.4 1.5 0.45.2 4.1 1.5 0.15.5 4.2 1.4 0.24.9 3.1 1.5 0.15.0 3.2 1.2 0.25.5 3.5 1.3 0.24.9 3.1 1.5 0.14.4 3.0 1.3 0.25.1 3.4 1.5 0.25.0 3.5 1.3 0.34.5 2.3 1.3 0.34.4 3.2 1.3 0.25.0 3.5 1.6 0.65.1 3.8 1.9 0.44.8 3.0 1.4 0.35.1 3.8 1.6 0.24.6 3.2 1.4 0.25.3 3.7 1.5 0.25.0 3.3 1.4 0.27.0 3.2 4.7 1.46.4 3.2 4.5 1.56.9 3.1 4.9 1.55.5 2.3 4.0 1.36.5 2.8 4.6 1.55.7 2.8 4.5 1.36.3 3.3 4.7 1.64.9 2.4 3.3 1.06.6 2.9 4.6 1.35.2 2.7 3.9 1.45.0 2.0 3.5 1.05.9 3.0 4.2 1.56.0 2.2 4.0 1.06.1 2.9 4.7 1.45.6 2.9 3.6 1.36.7 3.1 4.4 1.45.6 3.0 4.5 1.55.8 2.7 4.1 1.06.2 2.2 4.5 1.55.6 2.5 3.9 1.15.9 3.2 4.8 1.86.1 2.8 4.0 1.36.3 2.5 4.9 1.56.1 2.8 4.7 1.26.4 2.9 4.3 1.36.6 3.0 4.4 1.46.8 2.8 4.8 1.46.7 3.0 5.0 1.76.0 2.9 4.5 1.55.7 2.6 3.5 1.05.5 2.4 3.8 1.15.5 2.4 3.7 1.05.8 2.7 3.9 1.26.0 2.7 5.1 1.65.4 3.0 4.5 1.56.0 3.4 4.5 1.66.7 3.1 4.7 1.56.3 2.3 4.4 1.35.6 3.0 4.1 1.35.5 2.5 4.0 1.35.5 2.6 4.4 1.26.1 3.0 4.6 1.45.8 2.6 4.0 1.25.0 2.3 3.3 1.05.6 2.7 4.2 1.35.7 3.0 4.2 1.25.7 2.9 4.2 1.36.2 2.9 4.3 1.35.1 2.5 3.0 1.15.7 2.8 4.1 1.36.3 3.3 6.0 2.55.8 2.7 5.1 1.97.1 3.0 5.9 2.16.3 2.9 5.6 1.86.5 3.0 5.8 2.27.6 3.0 6.6 2.14.9 2.5 4.5 1.77.3 2.9 6.3 1.86.7 2.5 5.8 1.87.2 3.6 6.1 2.56.5 3.2 5.1 2.06.4 2.7 5.3 1.96.8 3.0 5.5 2.15.7 2.5 5.0 2.05.8 2.8 5.1 2.46.4 3.2 5.3 2.36.5 3.0 5.5 1.87.7 3.8 6.7 2.27.7 2.6 6.9 2.36.0 2.2 5.0 1.56.9 3.2 5.7 2.35.6 2.8 4.9 2.07.7 2.8 6.7 2.06.3 2.7 4.9 1.86.7 3.3 5.7 2.17.2 3.2 6.0 1.86.2 2.8 4.8 1.86.1 3.0 4.9 1.86.4 2.8 5.6 2.17.2 3.0 5.8 1.67.4 2.8 6.1 1.97.9 3.8 6.4 2.06.4 2.8 5.6 2.26.3 2.8 5.1 1.56.1 2.6 5.6 1.47.7 3.0 6.1 2.36.3 3.4 5.6 2.46.4 3.1 5.5 1.86.0 3.0 4.8 1.86.9 3.1 5.4 2.16.7 3.1 5.6 2.46.9 3.1 5.1 2.35.8 2.7 5.1 1.96.8 3.2 5.9 2.36.7 3.3 5.7 2.56.7 3.0 5.2 2.36.3 2.5 5.0 1.96.5 3.0 5.2 2.06.2 3.4 5.4 2.35.9 3.0 5.1 1.8"
     ]
    }
   ],
   "source": [
    "!head iris_copy.csv"
   ]
  },
  {
   "cell_type": "code",
   "execution_count": 60,
   "metadata": {
    "collapsed": false
   },
   "outputs": [
    {
     "name": "stdout",
     "output_type": "stream",
     "text": [
      "[5.1, 4.9, 4.7, 4.6, 5.0, 5.4, 4.6, 5.0, 4.4, 4.9, 5.4, 4.8, 4.8, 4.3, 5.8, 5.7, 5.4, 5.1, 5.7, 5.1, 5.4, 5.1, 4.6, 5.1, 4.8, 5.0, 5.0, 5.2, 5.2, 4.7, 4.8, 5.4, 5.2, 5.5, 4.9, 5.0, 5.5, 4.9, 4.4, 5.1, 5.0, 4.5, 4.4, 5.0, 5.1, 4.8, 5.1, 4.6, 5.3, 5.0, 7.0, 6.4, 6.9, 5.5, 6.5, 5.7, 6.3, 4.9, 6.6, 5.2, 5.0, 5.9, 6.0, 6.1, 5.6, 6.7, 5.6, 5.8, 6.2, 5.6, 5.9, 6.1, 6.3, 6.1, 6.4, 6.6, 6.8, 6.7, 6.0, 5.7, 5.5, 5.5, 5.8, 6.0, 5.4, 6.0, 6.7, 6.3, 5.6, 5.5, 5.5, 6.1, 5.8, 5.0, 5.6, 5.7, 5.7, 6.2, 5.1, 5.7, 6.3, 5.8, 7.1, 6.3, 6.5, 7.6, 4.9, 7.3, 6.7, 7.2, 6.5, 6.4, 6.8, 5.7, 5.8, 6.4, 6.5, 7.7, 7.7, 6.0, 6.9, 5.6, 7.7, 6.3, 6.7, 7.2, 6.2, 6.1, 6.4, 7.2, 7.4, 7.9, 6.4, 6.3, 6.1, 7.7, 6.3, 6.4, 6.0, 6.9, 6.7, 6.9, 5.8, 6.8, 6.7, 6.7, 6.3, 6.5, 6.2, 5.9]\n"
     ]
    }
   ],
   "source": [
    "print(a)"
   ]
  },
  {
   "cell_type": "code",
   "execution_count": 65,
   "metadata": {
    "collapsed": true
   },
   "outputs": [],
   "source": [
    "n = len(a)\n",
    "s = 0\n",
    "for i in range(n):\n",
    "    s += a[i]\n",
    "avg = s/n"
   ]
  },
  {
   "cell_type": "code",
   "execution_count": 66,
   "metadata": {
    "collapsed": false
   },
   "outputs": [
    {
     "name": "stdout",
     "output_type": "stream",
     "text": [
      "5.843333333333335\n"
     ]
    }
   ],
   "source": [
    "print(avg)"
   ]
  },
  {
   "cell_type": "code",
   "execution_count": 67,
   "metadata": {
    "collapsed": false
   },
   "outputs": [
    {
     "data": {
      "text/plain": [
       "5.843333333333335"
      ]
     },
     "execution_count": 67,
     "metadata": {},
     "output_type": "execute_result"
    }
   ],
   "source": [
    "sum(a)/len(a)"
   ]
  },
  {
   "cell_type": "code",
   "execution_count": null,
   "metadata": {
    "collapsed": true
   },
   "outputs": [],
   "source": [
    "def mean(arr):\n",
    "    return sum(arr)/len(arr)"
   ]
  },
  {
   "cell_type": "code",
   "execution_count": 15,
   "metadata": {
    "collapsed": true,
    "deletable": true,
    "editable": true
   },
   "outputs": [],
   "source": [
    "import csv"
   ]
  },
  {
   "cell_type": "code",
   "execution_count": 16,
   "metadata": {
    "collapsed": false,
    "deletable": true,
    "editable": true
   },
   "outputs": [],
   "source": [
    "f = open('iris.csv')\n",
    "r = csv.reader(f)"
   ]
  },
  {
   "cell_type": "code",
   "execution_count": 17,
   "metadata": {
    "collapsed": false,
    "deletable": true,
    "editable": true
   },
   "outputs": [],
   "source": [
    "a = []\n",
    "b = []\n",
    "c = []\n",
    "d = []\n",
    "for line_data in r:\n",
    "    a.append(float(line_data[0]))\n",
    "    b.append(float(line_data[1]))\n",
    "    c.append(float(line_data[2]))\n",
    "    d.append(float(line_data[3]))"
   ]
  },
  {
   "cell_type": "code",
   "execution_count": 18,
   "metadata": {
    "collapsed": false,
    "deletable": true,
    "editable": true
   },
   "outputs": [
    {
     "name": "stdout",
     "output_type": "stream",
     "text": [
      "[5.1, 4.9, 4.7, 4.6, 5.0, 5.4, 4.6, 5.0, 4.4, 4.9, 5.4, 4.8, 4.8, 4.3, 5.8, 5.7, 5.4, 5.1, 5.7, 5.1, 5.4, 5.1, 4.6, 5.1, 4.8, 5.0, 5.0, 5.2, 5.2, 4.7, 4.8, 5.4, 5.2, 5.5, 4.9, 5.0, 5.5, 4.9, 4.4, 5.1, 5.0, 4.5, 4.4, 5.0, 5.1, 4.8, 5.1, 4.6, 5.3, 5.0, 7.0, 6.4, 6.9, 5.5, 6.5, 5.7, 6.3, 4.9, 6.6, 5.2, 5.0, 5.9, 6.0, 6.1, 5.6, 6.7, 5.6, 5.8, 6.2, 5.6, 5.9, 6.1, 6.3, 6.1, 6.4, 6.6, 6.8, 6.7, 6.0, 5.7, 5.5, 5.5, 5.8, 6.0, 5.4, 6.0, 6.7, 6.3, 5.6, 5.5, 5.5, 6.1, 5.8, 5.0, 5.6, 5.7, 5.7, 6.2, 5.1, 5.7, 6.3, 5.8, 7.1, 6.3, 6.5, 7.6, 4.9, 7.3, 6.7, 7.2, 6.5, 6.4, 6.8, 5.7, 5.8, 6.4, 6.5, 7.7, 7.7, 6.0, 6.9, 5.6, 7.7, 6.3, 6.7, 7.2, 6.2, 6.1, 6.4, 7.2, 7.4, 7.9, 6.4, 6.3, 6.1, 7.7, 6.3, 6.4, 6.0, 6.9, 6.7, 6.9, 5.8, 6.8, 6.7, 6.7, 6.3, 6.5, 6.2, 5.9]\n"
     ]
    }
   ],
   "source": [
    "print(a)"
   ]
  },
  {
   "cell_type": "code",
   "execution_count": null,
   "metadata": {
    "collapsed": true
   },
   "outputs": [],
   "source": []
  },
  {
   "cell_type": "code",
   "execution_count": 19,
   "metadata": {
    "collapsed": true,
    "deletable": true,
    "editable": true
   },
   "outputs": [],
   "source": [
    "import numpy as np"
   ]
  },
  {
   "cell_type": "code",
   "execution_count": 20,
   "metadata": {
    "collapsed": false,
    "deletable": true,
    "editable": true
   },
   "outputs": [
    {
     "name": "stdout",
     "output_type": "stream",
     "text": [
      "[[ 5.1  3.5  1.4  0.2  0. ]\n",
      " [ 4.9  3.   1.4  0.2  0. ]\n",
      " [ 4.7  3.2  1.3  0.2  0. ]\n",
      " [ 4.6  3.1  1.5  0.2  0. ]\n",
      " [ 5.   3.6  1.4  0.2  0. ]\n",
      " [ 5.4  3.9  1.7  0.4  0. ]\n",
      " [ 4.6  3.4  1.4  0.3  0. ]\n",
      " [ 5.   3.4  1.5  0.2  0. ]\n",
      " [ 4.4  2.9  1.4  0.2  0. ]\n",
      " [ 4.9  3.1  1.5  0.1  0. ]\n",
      " [ 5.4  3.7  1.5  0.2  0. ]\n",
      " [ 4.8  3.4  1.6  0.2  0. ]\n",
      " [ 4.8  3.   1.4  0.1  0. ]\n",
      " [ 4.3  3.   1.1  0.1  0. ]\n",
      " [ 5.8  4.   1.2  0.2  0. ]\n",
      " [ 5.7  4.4  1.5  0.4  0. ]\n",
      " [ 5.4  3.9  1.3  0.4  0. ]\n",
      " [ 5.1  3.5  1.4  0.3  0. ]\n",
      " [ 5.7  3.8  1.7  0.3  0. ]\n",
      " [ 5.1  3.8  1.5  0.3  0. ]\n",
      " [ 5.4  3.4  1.7  0.2  0. ]\n",
      " [ 5.1  3.7  1.5  0.4  0. ]\n",
      " [ 4.6  3.6  1.   0.2  0. ]\n",
      " [ 5.1  3.3  1.7  0.5  0. ]\n",
      " [ 4.8  3.4  1.9  0.2  0. ]\n",
      " [ 5.   3.   1.6  0.2  0. ]\n",
      " [ 5.   3.4  1.6  0.4  0. ]\n",
      " [ 5.2  3.5  1.5  0.2  0. ]\n",
      " [ 5.2  3.4  1.4  0.2  0. ]\n",
      " [ 4.7  3.2  1.6  0.2  0. ]\n",
      " [ 4.8  3.1  1.6  0.2  0. ]\n",
      " [ 5.4  3.4  1.5  0.4  0. ]\n",
      " [ 5.2  4.1  1.5  0.1  0. ]\n",
      " [ 5.5  4.2  1.4  0.2  0. ]\n",
      " [ 4.9  3.1  1.5  0.1  0. ]\n",
      " [ 5.   3.2  1.2  0.2  0. ]\n",
      " [ 5.5  3.5  1.3  0.2  0. ]\n",
      " [ 4.9  3.1  1.5  0.1  0. ]\n",
      " [ 4.4  3.   1.3  0.2  0. ]\n",
      " [ 5.1  3.4  1.5  0.2  0. ]\n",
      " [ 5.   3.5  1.3  0.3  0. ]\n",
      " [ 4.5  2.3  1.3  0.3  0. ]\n",
      " [ 4.4  3.2  1.3  0.2  0. ]\n",
      " [ 5.   3.5  1.6  0.6  0. ]\n",
      " [ 5.1  3.8  1.9  0.4  0. ]\n",
      " [ 4.8  3.   1.4  0.3  0. ]\n",
      " [ 5.1  3.8  1.6  0.2  0. ]\n",
      " [ 4.6  3.2  1.4  0.2  0. ]\n",
      " [ 5.3  3.7  1.5  0.2  0. ]\n",
      " [ 5.   3.3  1.4  0.2  0. ]\n",
      " [ 7.   3.2  4.7  1.4  1. ]\n",
      " [ 6.4  3.2  4.5  1.5  1. ]\n",
      " [ 6.9  3.1  4.9  1.5  1. ]\n",
      " [ 5.5  2.3  4.   1.3  1. ]\n",
      " [ 6.5  2.8  4.6  1.5  1. ]\n",
      " [ 5.7  2.8  4.5  1.3  1. ]\n",
      " [ 6.3  3.3  4.7  1.6  1. ]\n",
      " [ 4.9  2.4  3.3  1.   1. ]\n",
      " [ 6.6  2.9  4.6  1.3  1. ]\n",
      " [ 5.2  2.7  3.9  1.4  1. ]\n",
      " [ 5.   2.   3.5  1.   1. ]\n",
      " [ 5.9  3.   4.2  1.5  1. ]\n",
      " [ 6.   2.2  4.   1.   1. ]\n",
      " [ 6.1  2.9  4.7  1.4  1. ]\n",
      " [ 5.6  2.9  3.6  1.3  1. ]\n",
      " [ 6.7  3.1  4.4  1.4  1. ]\n",
      " [ 5.6  3.   4.5  1.5  1. ]\n",
      " [ 5.8  2.7  4.1  1.   1. ]\n",
      " [ 6.2  2.2  4.5  1.5  1. ]\n",
      " [ 5.6  2.5  3.9  1.1  1. ]\n",
      " [ 5.9  3.2  4.8  1.8  1. ]\n",
      " [ 6.1  2.8  4.   1.3  1. ]\n",
      " [ 6.3  2.5  4.9  1.5  1. ]\n",
      " [ 6.1  2.8  4.7  1.2  1. ]\n",
      " [ 6.4  2.9  4.3  1.3  1. ]\n",
      " [ 6.6  3.   4.4  1.4  1. ]\n",
      " [ 6.8  2.8  4.8  1.4  1. ]\n",
      " [ 6.7  3.   5.   1.7  1. ]\n",
      " [ 6.   2.9  4.5  1.5  1. ]\n",
      " [ 5.7  2.6  3.5  1.   1. ]\n",
      " [ 5.5  2.4  3.8  1.1  1. ]\n",
      " [ 5.5  2.4  3.7  1.   1. ]\n",
      " [ 5.8  2.7  3.9  1.2  1. ]\n",
      " [ 6.   2.7  5.1  1.6  1. ]\n",
      " [ 5.4  3.   4.5  1.5  1. ]\n",
      " [ 6.   3.4  4.5  1.6  1. ]\n",
      " [ 6.7  3.1  4.7  1.5  1. ]\n",
      " [ 6.3  2.3  4.4  1.3  1. ]\n",
      " [ 5.6  3.   4.1  1.3  1. ]\n",
      " [ 5.5  2.5  4.   1.3  1. ]\n",
      " [ 5.5  2.6  4.4  1.2  1. ]\n",
      " [ 6.1  3.   4.6  1.4  1. ]\n",
      " [ 5.8  2.6  4.   1.2  1. ]\n",
      " [ 5.   2.3  3.3  1.   1. ]\n",
      " [ 5.6  2.7  4.2  1.3  1. ]\n",
      " [ 5.7  3.   4.2  1.2  1. ]\n",
      " [ 5.7  2.9  4.2  1.3  1. ]\n",
      " [ 6.2  2.9  4.3  1.3  1. ]\n",
      " [ 5.1  2.5  3.   1.1  1. ]\n",
      " [ 5.7  2.8  4.1  1.3  1. ]\n",
      " [ 6.3  3.3  6.   2.5  2. ]\n",
      " [ 5.8  2.7  5.1  1.9  2. ]\n",
      " [ 7.1  3.   5.9  2.1  2. ]\n",
      " [ 6.3  2.9  5.6  1.8  2. ]\n",
      " [ 6.5  3.   5.8  2.2  2. ]\n",
      " [ 7.6  3.   6.6  2.1  2. ]\n",
      " [ 4.9  2.5  4.5  1.7  2. ]\n",
      " [ 7.3  2.9  6.3  1.8  2. ]\n",
      " [ 6.7  2.5  5.8  1.8  2. ]\n",
      " [ 7.2  3.6  6.1  2.5  2. ]\n",
      " [ 6.5  3.2  5.1  2.   2. ]\n",
      " [ 6.4  2.7  5.3  1.9  2. ]\n",
      " [ 6.8  3.   5.5  2.1  2. ]\n",
      " [ 5.7  2.5  5.   2.   2. ]\n",
      " [ 5.8  2.8  5.1  2.4  2. ]\n",
      " [ 6.4  3.2  5.3  2.3  2. ]\n",
      " [ 6.5  3.   5.5  1.8  2. ]\n",
      " [ 7.7  3.8  6.7  2.2  2. ]\n",
      " [ 7.7  2.6  6.9  2.3  2. ]\n",
      " [ 6.   2.2  5.   1.5  2. ]\n",
      " [ 6.9  3.2  5.7  2.3  2. ]\n",
      " [ 5.6  2.8  4.9  2.   2. ]\n",
      " [ 7.7  2.8  6.7  2.   2. ]\n",
      " [ 6.3  2.7  4.9  1.8  2. ]\n",
      " [ 6.7  3.3  5.7  2.1  2. ]\n",
      " [ 7.2  3.2  6.   1.8  2. ]\n",
      " [ 6.2  2.8  4.8  1.8  2. ]\n",
      " [ 6.1  3.   4.9  1.8  2. ]\n",
      " [ 6.4  2.8  5.6  2.1  2. ]\n",
      " [ 7.2  3.   5.8  1.6  2. ]\n",
      " [ 7.4  2.8  6.1  1.9  2. ]\n",
      " [ 7.9  3.8  6.4  2.   2. ]\n",
      " [ 6.4  2.8  5.6  2.2  2. ]\n",
      " [ 6.3  2.8  5.1  1.5  2. ]\n",
      " [ 6.1  2.6  5.6  1.4  2. ]\n",
      " [ 7.7  3.   6.1  2.3  2. ]\n",
      " [ 6.3  3.4  5.6  2.4  2. ]\n",
      " [ 6.4  3.1  5.5  1.8  2. ]\n",
      " [ 6.   3.   4.8  1.8  2. ]\n",
      " [ 6.9  3.1  5.4  2.1  2. ]\n",
      " [ 6.7  3.1  5.6  2.4  2. ]\n",
      " [ 6.9  3.1  5.1  2.3  2. ]\n",
      " [ 5.8  2.7  5.1  1.9  2. ]\n",
      " [ 6.8  3.2  5.9  2.3  2. ]\n",
      " [ 6.7  3.3  5.7  2.5  2. ]\n",
      " [ 6.7  3.   5.2  2.3  2. ]\n",
      " [ 6.3  2.5  5.   1.9  2. ]\n",
      " [ 6.5  3.   5.2  2.   2. ]\n",
      " [ 6.2  3.4  5.4  2.3  2. ]\n",
      " [ 5.9  3.   5.1  1.8  2. ]]\n"
     ]
    }
   ],
   "source": [
    "array = np.loadtxt('iris.csv', delimiter=',')\n",
    "print(array)"
   ]
  },
  {
   "cell_type": "code",
   "execution_count": 53,
   "metadata": {
    "collapsed": false
   },
   "outputs": [],
   "source": [
    "np.savetxt(X=array, fname='iris_copy.csv', delimiter=' ')"
   ]
  },
  {
   "cell_type": "code",
   "execution_count": 45,
   "metadata": {
    "collapsed": false
   },
   "outputs": [
    {
     "name": "stdout",
     "output_type": "stream",
     "text": [
      "5.099999999999999645e+00 3.500000000000000000e+00 1.399999999999999911e+00 2.000000000000000111e-01 0.000000000000000000e+00\r\n",
      "4.900000000000000355e+00 3.000000000000000000e+00 1.399999999999999911e+00 2.000000000000000111e-01 0.000000000000000000e+00\r\n",
      "4.700000000000000178e+00 3.200000000000000178e+00 1.300000000000000044e+00 2.000000000000000111e-01 0.000000000000000000e+00\r\n",
      "4.599999999999999645e+00 3.100000000000000089e+00 1.500000000000000000e+00 2.000000000000000111e-01 0.000000000000000000e+00\r\n",
      "5.000000000000000000e+00 3.600000000000000089e+00 1.399999999999999911e+00 2.000000000000000111e-01 0.000000000000000000e+00\r\n",
      "5.400000000000000355e+00 3.899999999999999911e+00 1.699999999999999956e+00 4.000000000000000222e-01 0.000000000000000000e+00\r\n",
      "4.599999999999999645e+00 3.399999999999999911e+00 1.399999999999999911e+00 2.999999999999999889e-01 0.000000000000000000e+00\r\n",
      "5.000000000000000000e+00 3.399999999999999911e+00 1.500000000000000000e+00 2.000000000000000111e-01 0.000000000000000000e+00\r\n",
      "4.400000000000000355e+00 2.899999999999999911e+00 1.399999999999999911e+00 2.000000000000000111e-01 0.000000000000000000e+00\r\n",
      "4.900000000000000355e+00 3.100000000000000089e+00 1.500000000000000000e+00 1.000000000000000056e-01 0.000000000000000000e+00\r\n"
     ]
    }
   ],
   "source": [
    "!head iris_copy.csv"
   ]
  },
  {
   "cell_type": "markdown",
   "metadata": {},
   "source": [
    "## FIXME"
   ]
  },
  {
   "cell_type": "code",
   "execution_count": 21,
   "metadata": {
    "collapsed": true,
    "deletable": true,
    "editable": true
   },
   "outputs": [],
   "source": [
    "import pandas"
   ]
  },
  {
   "cell_type": "code",
   "execution_count": 54,
   "metadata": {
    "collapsed": false,
    "deletable": true,
    "editable": true
   },
   "outputs": [
    {
     "name": "stdout",
     "output_type": "stream",
     "text": [
      "     5.1  3.5  1.4  0.2  0\n",
      "0    4.9  3.0  1.4  0.2  0\n",
      "1    4.7  3.2  1.3  0.2  0\n",
      "2    4.6  3.1  1.5  0.2  0\n",
      "3    5.0  3.6  1.4  0.2  0\n",
      "4    5.4  3.9  1.7  0.4  0\n",
      "5    4.6  3.4  1.4  0.3  0\n",
      "6    5.0  3.4  1.5  0.2  0\n",
      "7    4.4  2.9  1.4  0.2  0\n",
      "8    4.9  3.1  1.5  0.1  0\n",
      "9    5.4  3.7  1.5  0.2  0\n",
      "10   4.8  3.4  1.6  0.2  0\n",
      "11   4.8  3.0  1.4  0.1  0\n",
      "12   4.3  3.0  1.1  0.1  0\n",
      "13   5.8  4.0  1.2  0.2  0\n",
      "14   5.7  4.4  1.5  0.4  0\n",
      "15   5.4  3.9  1.3  0.4  0\n",
      "16   5.1  3.5  1.4  0.3  0\n",
      "17   5.7  3.8  1.7  0.3  0\n",
      "18   5.1  3.8  1.5  0.3  0\n",
      "19   5.4  3.4  1.7  0.2  0\n",
      "20   5.1  3.7  1.5  0.4  0\n",
      "21   4.6  3.6  1.0  0.2  0\n",
      "22   5.1  3.3  1.7  0.5  0\n",
      "23   4.8  3.4  1.9  0.2  0\n",
      "24   5.0  3.0  1.6  0.2  0\n",
      "25   5.0  3.4  1.6  0.4  0\n",
      "26   5.2  3.5  1.5  0.2  0\n",
      "27   5.2  3.4  1.4  0.2  0\n",
      "28   4.7  3.2  1.6  0.2  0\n",
      "29   4.8  3.1  1.6  0.2  0\n",
      "..   ...  ...  ...  ... ..\n",
      "119  6.9  3.2  5.7  2.3  2\n",
      "120  5.6  2.8  4.9  2.0  2\n",
      "121  7.7  2.8  6.7  2.0  2\n",
      "122  6.3  2.7  4.9  1.8  2\n",
      "123  6.7  3.3  5.7  2.1  2\n",
      "124  7.2  3.2  6.0  1.8  2\n",
      "125  6.2  2.8  4.8  1.8  2\n",
      "126  6.1  3.0  4.9  1.8  2\n",
      "127  6.4  2.8  5.6  2.1  2\n",
      "128  7.2  3.0  5.8  1.6  2\n",
      "129  7.4  2.8  6.1  1.9  2\n",
      "130  7.9  3.8  6.4  2.0  2\n",
      "131  6.4  2.8  5.6  2.2  2\n",
      "132  6.3  2.8  5.1  1.5  2\n",
      "133  6.1  2.6  5.6  1.4  2\n",
      "134  7.7  3.0  6.1  2.3  2\n",
      "135  6.3  3.4  5.6  2.4  2\n",
      "136  6.4  3.1  5.5  1.8  2\n",
      "137  6.0  3.0  4.8  1.8  2\n",
      "138  6.9  3.1  5.4  2.1  2\n",
      "139  6.7  3.1  5.6  2.4  2\n",
      "140  6.9  3.1  5.1  2.3  2\n",
      "141  5.8  2.7  5.1  1.9  2\n",
      "142  6.8  3.2  5.9  2.3  2\n",
      "143  6.7  3.3  5.7  2.5  2\n",
      "144  6.7  3.0  5.2  2.3  2\n",
      "145  6.3  2.5  5.0  1.9  2\n",
      "146  6.5  3.0  5.2  2.0  2\n",
      "147  6.2  3.4  5.4  2.3  2\n",
      "148  5.9  3.0  5.1  1.8  2\n",
      "\n",
      "[149 rows x 5 columns]\n"
     ]
    }
   ],
   "source": [
    "df = pandas.read_csv('iris.csv')\n",
    "\n",
    "print(df)"
   ]
  },
  {
   "cell_type": "code",
   "execution_count": 58,
   "metadata": {
    "collapsed": false,
    "deletable": true,
    "editable": true
   },
   "outputs": [],
   "source": [
    "df.to_csv(\"iris_copy.csv\", sep=' ')"
   ]
  },
  {
   "cell_type": "code",
   "execution_count": 59,
   "metadata": {
    "collapsed": false
   },
   "outputs": [
    {
     "name": "stdout",
     "output_type": "stream",
     "text": [
      " 5.1 3.5 1.4 0.2 0\r\n",
      "0 4.9 3.0 1.4 0.2 0\r\n",
      "1 4.7 3.2 1.3 0.2 0\r\n",
      "2 4.6 3.1 1.5 0.2 0\r\n",
      "3 5.0 3.6 1.4 0.2 0\r\n",
      "4 5.4 3.9 1.7 0.4 0\r\n",
      "5 4.6 3.4 1.4 0.3 0\r\n",
      "6 5.0 3.4 1.5 0.2 0\r\n",
      "7 4.4 2.9 1.4 0.2 0\r\n",
      "8 4.9 3.1 1.5 0.1 0\r\n"
     ]
    }
   ],
   "source": [
    "!head iris_copy.csv"
   ]
  },
  {
   "cell_type": "markdown",
   "metadata": {},
   "source": [
    "## FIXME"
   ]
  },
  {
   "cell_type": "code",
   "execution_count": 23,
   "metadata": {
    "collapsed": true
   },
   "outputs": [],
   "source": [
    "import matplotlib.pyplot as plt\n",
    "%matplotlib inline"
   ]
  },
  {
   "cell_type": "code",
   "execution_count": 24,
   "metadata": {
    "collapsed": false
   },
   "outputs": [
    {
     "data": {
      "text/plain": [
       "(array([  9.,  23.,  14.,  27.,  16.,  26.,  18.,   6.,   5.,   6.]),\n",
       " array([ 4.3 ,  4.66,  5.02,  5.38,  5.74,  6.1 ,  6.46,  6.82,  7.18,\n",
       "         7.54,  7.9 ]),\n",
       " <a list of 10 Patch objects>)"
      ]
     },
     "execution_count": 24,
     "metadata": {},
     "output_type": "execute_result"
    },
    {
     "data": {
      "image/png": "[encoded data removed]",
      "text/plain": [
       "<matplotlib.figure.Figure at 0x111b29f98>"
      ]
     },
     "metadata": {},
     "output_type": "display_data"
    }
   ],
   "source": [
    "plt.hist(a)"
   ]
  },
  {
   "cell_type": "code",
   "execution_count": 25,
   "metadata": {
    "collapsed": false
   },
   "outputs": [
    {
     "data": {
      "text/plain": [
       "(array([  4.,   7.,  22.,  24.,  38.,  31.,   9.,  11.,   2.,   2.]),\n",
       " array([ 2.  ,  2.24,  2.48,  2.72,  2.96,  3.2 ,  3.44,  3.68,  3.92,\n",
       "         4.16,  4.4 ]),\n",
       " <a list of 10 Patch objects>)"
      ]
     },
     "execution_count": 25,
     "metadata": {},
     "output_type": "execute_result"
    },
    {
     "data": {
      "image/png": "[encoded data removed]",
      "text/plain": [
       "<matplotlib.figure.Figure at 0x114cb53c8>"
      ]
     },
     "metadata": {},
     "output_type": "display_data"
    }
   ],
   "source": [
    "plt.hist(b)"
   ]
  },
  {
   "cell_type": "code",
   "execution_count": 26,
   "metadata": {
    "collapsed": false
   },
   "outputs": [
    {
     "data": {
      "text/plain": [
       "(array([ 37.,  13.,   0.,   3.,   8.,  26.,  29.,  18.,  11.,   5.]),\n",
       " array([ 1.  ,  1.59,  2.18,  2.77,  3.36,  3.95,  4.54,  5.13,  5.72,\n",
       "         6.31,  6.9 ]),\n",
       " <a list of 10 Patch objects>)"
      ]
     },
     "execution_count": 26,
     "metadata": {},
     "output_type": "execute_result"
    },
    {
     "data": {
      "image/png": "[encoded data removed]",
      "text/plain": [
       "<matplotlib.figure.Figure at 0x114ebc0b8>"
      ]
     },
     "metadata": {},
     "output_type": "display_data"
    }
   ],
   "source": [
    "plt.hist(c)"
   ]
  },
  {
   "cell_type": "code",
   "execution_count": 27,
   "metadata": {
    "collapsed": false
   },
   "outputs": [
    {
     "data": {
      "text/plain": [
       "(array([ 41.,   8.,   1.,   7.,   8.,  33.,   6.,  23.,   9.,  14.]),\n",
       " array([ 0.1 ,  0.34,  0.58,  0.82,  1.06,  1.3 ,  1.54,  1.78,  2.02,\n",
       "         2.26,  2.5 ]),\n",
       " <a list of 10 Patch objects>)"
      ]
     },
     "execution_count": 27,
     "metadata": {},
     "output_type": "execute_result"
    },
    {
     "data": {
      "image/png": "[encoded data removed]",
      "text/plain": [
       "<matplotlib.figure.Figure at 0x114fe3358>"
      ]
     },
     "metadata": {},
     "output_type": "display_data"
    }
   ],
   "source": [
    "plt.hist(d)"
   ]
  },
  {
   "cell_type": "code",
   "execution_count": 28,
   "metadata": {
    "collapsed": false
   },
   "outputs": [
    {
     "data": {
      "text/plain": [
       "<matplotlib.axes._subplots.AxesSubplot at 0x114fb5f98>"
      ]
     },
     "execution_count": 28,
     "metadata": {},
     "output_type": "execute_result"
    },
    {
     "data": {
      "image/png": "[encoded data removed]",
      "text/plain": [
       "<matplotlib.figure.Figure at 0x114e557b8>"
      ]
     },
     "metadata": {},
     "output_type": "display_data"
    }
   ],
   "source": [
    "df.plot()"
   ]
  },
  {
   "cell_type": "code",
   "execution_count": null,
   "metadata": {
    "collapsed": true
   },
   "outputs": [],
   "source": []
  }
 ],
 "metadata": {
  "kernelspec": {
   "display_name": "Python 3",
   "language": "python",
   "name": "python3"
  },
  "language_info": {
   "codemirror_mode": {
    "name": "ipython",
    "version": 3
   },
   "file_extension": ".py",
   "mimetype": "text/x-python",
   "name": "python",
   "nbconvert_exporter": "python",
   "pygments_lexer": "ipython3",
   "version": "3.6.0"
  }
 },
 "nbformat": 4,
 "nbformat_minor": 2
}
